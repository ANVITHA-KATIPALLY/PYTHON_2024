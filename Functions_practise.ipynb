{
 "cells": [
  {
   "cell_type": "code",
   "execution_count": 5,
   "id": "38c7be95-49fa-4794-8e43-76af241224c1",
   "metadata": {},
   "outputs": [
    {
     "data": {
      "text/plain": [
       "33.52380952380952"
      ]
     },
     "execution_count": 5,
     "metadata": {},
     "output_type": "execute_result"
    }
   ],
   "source": [
    "def vol(rad):\n",
    "    return (4/3)*(22/7)*rad**3\n",
    "\n",
    "vol(2)  # This will print the volume"
   ]
  },
  {
   "cell_type": "code",
   "execution_count": 7,
   "id": "0c5e8d4a-bc5b-4ac3-81a9-562d0705f47b",
   "metadata": {},
   "outputs": [
    {
     "name": "stdout",
     "output_type": "stream",
     "text": [
      "given number is there 3\n"
     ]
    }
   ],
   "source": [
    "def check_ran(n, m1, m2):\n",
    "    if n in range(m1, m2+1):\n",
    "        print(f'given number is there {n}')\n",
    "    else:\n",
    "        print(\"out of box\")\n",
    "\n",
    "check_ran(3, 2, 8)"
   ]
  },
  {
   "cell_type": "code",
   "execution_count": 15,
   "id": "72a1248e-b1dd-4422-9d65-0d353ae28a36",
   "metadata": {},
   "outputs": [
    {
     "name": "stdout",
     "output_type": "stream",
     "text": [
      "orginal str ANVitha\n",
      "upper count 3\n",
      "lower count 4\n"
     ]
    }
   ],
   "source": [
    "def check_count(str):\n",
    "    up = 0\n",
    "    lo = 0\n",
    "    for i in str:\n",
    "        if i.isupper():\n",
    "            up = up+1\n",
    "        elif i.islower():\n",
    "            lo = lo+1\n",
    "        else:\n",
    "            pass\n",
    "\n",
    "    print(\"orginal str\", str)\n",
    "    print(\"upper count\", up)\n",
    "    print(\"lower count\", lo)\n",
    "\n",
    "check_count(\"ANVitha\")"
   ]
  },
  {
   "cell_type": "code",
   "execution_count": 17,
   "id": "805d717c-8772-475f-8638-984ebfeb8413",
   "metadata": {},
   "outputs": [
    {
     "data": {
      "text/plain": [
       "{1, 2, 3}"
      ]
     },
     "execution_count": 17,
     "metadata": {},
     "output_type": "execute_result"
    }
   ],
   "source": [
    "def unique_list(lst):\n",
    "    res = set(lst)\n",
    "    return res\n",
    "\n",
    "unique_list([1,1,2,2,3])"
   ]
  },
  {
   "cell_type": "code",
   "execution_count": 27,
   "id": "f4f477e9-6808-4f48-ab3c-6e2df0f9b0e8",
   "metadata": {},
   "outputs": [
    {
     "data": {
      "text/plain": [
       "[1, 2, 3, 4]"
      ]
     },
     "execution_count": 27,
     "metadata": {},
     "output_type": "execute_result"
    }
   ],
   "source": [
    "def unique_list(lst):\n",
    "    res = []\n",
    "    for i in lst:\n",
    "        if i not in res:\n",
    "            res.append(i)\n",
    "    return res\n",
    "\n",
    "unique_list([1,1,1,2,2,3,4])"
   ]
  },
  {
   "cell_type": "code",
   "execution_count": 29,
   "id": "90f388e7-8bed-4f7c-a73d-8d57909cf650",
   "metadata": {},
   "outputs": [
    {
     "data": {
      "text/plain": [
       "-24"
      ]
     },
     "execution_count": 29,
     "metadata": {},
     "output_type": "execute_result"
    }
   ],
   "source": [
    "def mul_num(n):\n",
    "    res = 1\n",
    "    for i in n:\n",
    "        res = res*i\n",
    "\n",
    "    return res\n",
    "\n",
    "mul_num([1,2,3,-4])"
   ]
  },
  {
   "cell_type": "code",
   "execution_count": 35,
   "id": "9b15113d-ec12-40bb-9b6b-6c6081fc41e7",
   "metadata": {},
   "outputs": [
    {
     "data": {
      "text/plain": [
       "True"
      ]
     },
     "execution_count": 35,
     "metadata": {},
     "output_type": "execute_result"
    }
   ],
   "source": [
    "def palindrome(s):\n",
    "    for i in s:\n",
    "        if s[::-1] == s:\n",
    "            return True\n",
    "        else:\n",
    "            return False\n",
    "\n",
    "palindrome(\"MOM\")"
   ]
  },
  {
   "cell_type": "code",
   "execution_count": 39,
   "id": "adf717ed-25b3-4f7b-a148-e4abcbcd1df2",
   "metadata": {},
   "outputs": [
    {
     "data": {
      "text/plain": [
       "False"
      ]
     },
     "execution_count": 39,
     "metadata": {},
     "output_type": "execute_result"
    }
   ],
   "source": [
    "palindrome(\"mummy\")"
   ]
  },
  {
   "cell_type": "code",
   "execution_count": null,
   "id": "9678906f-2901-4d6d-b5c8-3c0bcafb146c",
   "metadata": {},
   "outputs": [],
   "source": [
    "ALTERNATE SOLUTION\n"
   ]
  },
  {
   "cell_type": "code",
   "execution_count": 53,
   "id": "aad33a2a-20ca-4491-8f60-5b146246b9e0",
   "metadata": {},
   "outputs": [
    {
     "data": {
      "text/plain": [
       "'palindrome'"
      ]
     },
     "execution_count": 53,
     "metadata": {},
     "output_type": "execute_result"
    }
   ],
   "source": [
    "def ispalindrome(str):\n",
    "    str = str.lower()\n",
    "    frst, lst = 0,len(str)-1\n",
    "    while(frst < lst):\n",
    "        if(str[frst] == str[lst]):\n",
    "            frst+=1\n",
    "            lst-=1\n",
    "        else:\n",
    "            return \"not palindrome\"\n",
    "\n",
    "    return \"palindrome\"\n",
    "\n",
    "ispalindrome(\"mum\")\n",
    "    "
   ]
  },
  {
   "cell_type": "code",
   "execution_count": 55,
   "id": "b47bc195-9368-4579-80f2-50244b3303c1",
   "metadata": {},
   "outputs": [
    {
     "data": {
      "text/plain": [
       "'not palindrome'"
      ]
     },
     "execution_count": 55,
     "metadata": {},
     "output_type": "execute_result"
    }
   ],
   "source": [
    "ispalindrome(\"dada\")"
   ]
  },
  {
   "cell_type": "code",
   "execution_count": null,
   "id": "c8b1f717-aac6-4cfa-8a65-a25f935b04d1",
   "metadata": {},
   "outputs": [],
   "source": [
    "PANGRAM"
   ]
  },
  {
   "cell_type": "code",
   "execution_count": 68,
   "id": "a60005ea-6f81-408b-8c79-1e1c1b399ea4",
   "metadata": {},
   "outputs": [
    {
     "data": {
      "text/plain": [
       "True"
      ]
     },
     "execution_count": 68,
     "metadata": {},
     "output_type": "execute_result"
    }
   ],
   "source": [
    "import string\n",
    "\n",
    "def pangram(str, alphabet = string.ascii_lowercase):\n",
    "    alphaset = set(alphabet)\n",
    "    str = str.replace(\" \",'')\n",
    "    str = str.lower()\n",
    "    str = set(str)\n",
    "    \n",
    "    return str == alphaset\n",
    "\n",
    "pangram(\"The quick brown fox jumps over the lazy dog\")"
   ]
  },
  {
   "cell_type": "code",
   "execution_count": null,
   "id": "9eba52bd-4a9e-4d41-9d76-6102bb1ed7ed",
   "metadata": {},
   "outputs": [],
   "source": [
    "LESSER OF 2 EVENS"
   ]
  },
  {
   "cell_type": "code",
   "execution_count": 74,
   "id": "aff222c7-ff03-4fd3-b0a7-b71b40c345cc",
   "metadata": {},
   "outputs": [
    {
     "data": {
      "text/plain": [
       "2"
      ]
     },
     "execution_count": 74,
     "metadata": {},
     "output_type": "execute_result"
    }
   ],
   "source": [
    "def lesser_even(a,b):\n",
    "    if a % 2 == 0 and b % 2 == 0:\n",
    "        return min(a,b)\n",
    "    else:\n",
    "        return max(a,b)\n",
    "\n",
    "lesser_even(2,4)"
   ]
  },
  {
   "cell_type": "code",
   "execution_count": 76,
   "id": "e803309b-6a40-48ea-bbcb-4af09a588a33",
   "metadata": {},
   "outputs": [
    {
     "data": {
      "text/plain": [
       "9"
      ]
     },
     "execution_count": 76,
     "metadata": {},
     "output_type": "execute_result"
    }
   ],
   "source": [
    "lesser_even(2,9)"
   ]
  },
  {
   "cell_type": "code",
   "execution_count": null,
   "id": "cf3cbe6b-bccb-4078-8672-f2eb95672afd",
   "metadata": {},
   "outputs": [],
   "source": [
    "TWO WORDS BREAK"
   ]
  },
  {
   "cell_type": "code",
   "execution_count": 88,
   "id": "41200e6e-87a1-41bb-aed3-07284fba0edb",
   "metadata": {},
   "outputs": [
    {
     "data": {
      "text/plain": [
       "True"
      ]
     },
     "execution_count": 88,
     "metadata": {},
     "output_type": "execute_result"
    }
   ],
   "source": [
    "def words_split(text):\n",
    "    res = text.split()\n",
    "    return res[0][0] == res[1][0]\n",
    "    \n",
    "words_split('anvitha ammu')"
   ]
  },
  {
   "cell_type": "code",
   "execution_count": null,
   "id": "486c49ce-e74b-44a7-b9ec-ba3b69e4ab21",
   "metadata": {},
   "outputs": [],
   "source": [
    "SUM OF INTERGER"
   ]
  },
  {
   "cell_type": "code",
   "execution_count": 94,
   "id": "39d71537-de7d-4616-8845-bbdd68dda47a",
   "metadata": {},
   "outputs": [
    {
     "data": {
      "text/plain": [
       "False"
      ]
     },
     "execution_count": 94,
     "metadata": {},
     "output_type": "execute_result"
    }
   ],
   "source": [
    "def sum_int(a,b):\n",
    "    if a+b == 20 or a == 20 or b == 20:\n",
    "        return True\n",
    "    else:\n",
    "        return False\n",
    "\n",
    "sum_int(2, 3)"
   ]
  },
  {
   "cell_type": "code",
   "execution_count": null,
   "id": "39a36983-84a3-4968-8a56-7db252b860c9",
   "metadata": {},
   "outputs": [],
   "source": [
    "LEVEL - 1:\n",
    "\n",
    "captalize specific letter in the word\n"
   ]
  },
  {
   "cell_type": "code",
   "execution_count": 100,
   "id": "3ddf264e-72ca-4ffa-af79-6bebe2923193",
   "metadata": {},
   "outputs": [
    {
     "data": {
      "text/plain": [
       "'MacDonald'"
      ]
     },
     "execution_count": 100,
     "metadata": {},
     "output_type": "execute_result"
    }
   ],
   "source": [
    "def cap(name):\n",
    "    if len(name) > 3:\n",
    "        return name[:3].capitalize() + name[3:].capitalize()\n",
    "    else:\n",
    "        return 'to short'\n",
    "\n",
    "cap('macdonald')"
   ]
  },
  {
   "cell_type": "code",
   "execution_count": null,
   "id": "d0e9274a-bc0a-4bef-bc71-87c669e3dea5",
   "metadata": {},
   "outputs": [],
   "source": [
    "REVERSE THE WORDS IN SENTENCE "
   ]
  },
  {
   "cell_type": "code",
   "execution_count": 108,
   "id": "4e5fa846-68c8-4173-990e-e56a0555de32",
   "metadata": {},
   "outputs": [
    {
     "data": {
      "text/plain": [
       "'Anvitha Iam Hi'"
      ]
     },
     "execution_count": 108,
     "metadata": {},
     "output_type": "execute_result"
    }
   ],
   "source": [
    "def reverse_word(str):\n",
    "    return ' '.join(str.split()[::-1])\n",
    "\n",
    "reverse_word('Hi Iam Anvitha')"
   ]
  },
  {
   "cell_type": "code",
   "execution_count": 110,
   "id": "3175e2aa-c593-4e80-8c38-34f64338d5d4",
   "metadata": {},
   "outputs": [
    {
     "data": {
      "text/plain": [
       "'HI SAMPATHUUUUU'"
      ]
     },
     "execution_count": 110,
     "metadata": {},
     "output_type": "execute_result"
    }
   ],
   "source": [
    "reverse_word('SAMPATHUUUUU HI')"
   ]
  },
  {
   "cell_type": "code",
   "execution_count": null,
   "id": "e1d7fe24-f213-4168-b4a1-6bfa3cc30134",
   "metadata": {},
   "outputs": [],
   "source": [
    "ALMOST THERE"
   ]
  },
  {
   "cell_type": "code",
   "execution_count": 112,
   "id": "39ffc782-eff5-413b-b550-98ef15e5755d",
   "metadata": {},
   "outputs": [
    {
     "data": {
      "text/plain": [
       "True"
      ]
     },
     "execution_count": 112,
     "metadata": {},
     "output_type": "execute_result"
    }
   ],
   "source": [
    "def almost_there(n):\n",
    "    if (abs(100-n) <= 10) or (abs(200-n) <= 10):\n",
    "        return True\n",
    "    else:\n",
    "        return False\n",
    "\n",
    "almost_there(91)"
   ]
  },
  {
   "cell_type": "code",
   "execution_count": 114,
   "id": "33d20c65-f5f7-44e1-bafd-215f74536e0c",
   "metadata": {},
   "outputs": [
    {
     "data": {
      "text/plain": [
       "False"
      ]
     },
     "execution_count": 114,
     "metadata": {},
     "output_type": "execute_result"
    }
   ],
   "source": [
    "almost_there(81)"
   ]
  },
  {
   "cell_type": "raw",
   "id": "59659078-df47-466d-9513-0be8e117a076",
   "metadata": {},
   "source": [
    "LEVEL - 2"
   ]
  },
  {
   "cell_type": "raw",
   "id": "d1f2e378-95ef-44e1-a2c7-de4fd1427660",
   "metadata": {},
   "source": [
    "NEXT 33 PROBLEM"
   ]
  },
  {
   "cell_type": "code",
   "execution_count": 8,
   "id": "7a450c8b-2c18-4737-9765-3a8592887f79",
   "metadata": {},
   "outputs": [
    {
     "data": {
      "text/plain": [
       "True"
      ]
     },
     "execution_count": 8,
     "metadata": {},
     "output_type": "execute_result"
    }
   ],
   "source": [
    "def next_integer(nums):\n",
    "    for i in range(0, len(nums)-1):\n",
    "        if nums[i] == 3 and nums[i+1] == 3:\n",
    "            return True\n",
    "    return False\n",
    "next_integer([1,3,2,3,3])"
   ]
  },
  {
   "cell_type": "code",
   "execution_count": 14,
   "id": "1c5064a0-2049-49c5-a97c-c413a49f5040",
   "metadata": {},
   "outputs": [
    {
     "ename": "IndexError",
     "evalue": "list index out of range",
     "output_type": "error",
     "traceback": [
      "\u001b[0;31m---------------------------------------------------------------------------\u001b[0m",
      "\u001b[0;31mIndexError\u001b[0m                                Traceback (most recent call last)",
      "Cell \u001b[0;32mIn[14], line 1\u001b[0m\n\u001b[0;32m----> 1\u001b[0m next_integer([\u001b[38;5;241m1\u001b[39m,\u001b[38;5;241m2\u001b[39m,\u001b[38;5;241m3\u001b[39m])\n",
      "Cell \u001b[0;32mIn[10], line 3\u001b[0m, in \u001b[0;36mnext_integer\u001b[0;34m(nums)\u001b[0m\n\u001b[1;32m      1\u001b[0m \u001b[38;5;28;01mdef\u001b[39;00m \u001b[38;5;21mnext_integer\u001b[39m(nums):\n\u001b[1;32m      2\u001b[0m     \u001b[38;5;28;01mfor\u001b[39;00m i \u001b[38;5;129;01min\u001b[39;00m nums:\n\u001b[0;32m----> 3\u001b[0m         \u001b[38;5;28;01mif\u001b[39;00m nums[i] \u001b[38;5;241m==\u001b[39m \u001b[38;5;241m3\u001b[39m \u001b[38;5;129;01mand\u001b[39;00m nums[i\u001b[38;5;241m+\u001b[39m\u001b[38;5;241m1\u001b[39m] \u001b[38;5;241m==\u001b[39m \u001b[38;5;241m3\u001b[39m:\n\u001b[1;32m      4\u001b[0m             \u001b[38;5;28;01mreturn\u001b[39;00m \u001b[38;5;28;01mTrue\u001b[39;00m\n\u001b[1;32m      5\u001b[0m     \u001b[38;5;28;01mreturn\u001b[39;00m \u001b[38;5;28;01mFalse\u001b[39;00m\n",
      "\u001b[0;31mIndexError\u001b[0m: list index out of range"
     ]
    }
   ],
   "source": [
    "next_integer([1,2,3])"
   ]
  },
  {
   "cell_type": "code",
   "execution_count": 10,
   "id": "43d0a411-e1b2-4c9c-85e9-424b2486c165",
   "metadata": {},
   "outputs": [
    {
     "data": {
      "text/plain": [
       "True"
      ]
     },
     "execution_count": 10,
     "metadata": {},
     "output_type": "execute_result"
    }
   ],
   "source": [
    "def next_integer(nums):\n",
    "    for i in nums:\n",
    "        if nums[i] == 3 and nums[i+1] == 3:\n",
    "            return True\n",
    "    return False\n",
    "next_integer([1,3,2,3,3])"
   ]
  },
  {
   "cell_type": "code",
   "execution_count": 16,
   "id": "07295388-98da-463f-8411-3065a27744ac",
   "metadata": {},
   "outputs": [
    {
     "ename": "IndexError",
     "evalue": "list index out of range",
     "output_type": "error",
     "traceback": [
      "\u001b[0;31m---------------------------------------------------------------------------\u001b[0m",
      "\u001b[0;31mIndexError\u001b[0m                                Traceback (most recent call last)",
      "Cell \u001b[0;32mIn[16], line 1\u001b[0m\n\u001b[0;32m----> 1\u001b[0m next_integer([\u001b[38;5;241m3\u001b[39m,\u001b[38;5;241m1\u001b[39m,\u001b[38;5;241m3\u001b[39m])\n",
      "Cell \u001b[0;32mIn[10], line 3\u001b[0m, in \u001b[0;36mnext_integer\u001b[0;34m(nums)\u001b[0m\n\u001b[1;32m      1\u001b[0m \u001b[38;5;28;01mdef\u001b[39;00m \u001b[38;5;21mnext_integer\u001b[39m(nums):\n\u001b[1;32m      2\u001b[0m     \u001b[38;5;28;01mfor\u001b[39;00m i \u001b[38;5;129;01min\u001b[39;00m nums:\n\u001b[0;32m----> 3\u001b[0m         \u001b[38;5;28;01mif\u001b[39;00m nums[i] \u001b[38;5;241m==\u001b[39m \u001b[38;5;241m3\u001b[39m \u001b[38;5;129;01mand\u001b[39;00m nums[i\u001b[38;5;241m+\u001b[39m\u001b[38;5;241m1\u001b[39m] \u001b[38;5;241m==\u001b[39m \u001b[38;5;241m3\u001b[39m:\n\u001b[1;32m      4\u001b[0m             \u001b[38;5;28;01mreturn\u001b[39;00m \u001b[38;5;28;01mTrue\u001b[39;00m\n\u001b[1;32m      5\u001b[0m     \u001b[38;5;28;01mreturn\u001b[39;00m \u001b[38;5;28;01mFalse\u001b[39;00m\n",
      "\u001b[0;31mIndexError\u001b[0m: list index out of range"
     ]
    }
   ],
   "source": [
    "next_integer([3,1,3])"
   ]
  },
  {
   "cell_type": "code",
   "execution_count": 18,
   "id": "c081459b-44f9-4f76-aaa7-a7d428de5a7b",
   "metadata": {},
   "outputs": [
    {
     "data": {
      "text/plain": [
       "True"
      ]
     },
     "execution_count": 18,
     "metadata": {},
     "output_type": "execute_result"
    }
   ],
   "source": [
    "def next_integer(nums):\n",
    "    for i in nums:\n",
    "        if nums[i:i+2] == [3,3]:\n",
    "            return True\n",
    "    return False\n",
    "next_integer([1,3,2,3,3])"
   ]
  },
  {
   "cell_type": "code",
   "execution_count": 20,
   "id": "80b7f136-73ff-4520-80c9-7c82cf44caf0",
   "metadata": {},
   "outputs": [
    {
     "data": {
      "text/plain": [
       "False"
      ]
     },
     "execution_count": 20,
     "metadata": {},
     "output_type": "execute_result"
    }
   ],
   "source": [
    "next_integer([1,2,3])"
   ]
  },
  {
   "cell_type": "code",
   "execution_count": null,
   "id": "0326f2ed-04d6-4de6-af2c-406492712f39",
   "metadata": {},
   "outputs": [],
   "source": [
    "PAPER DOLL - PRINT CHAR 3 TIMES"
   ]
  },
  {
   "cell_type": "code",
   "execution_count": 30,
   "id": "bbc3fb78-9a2c-43d4-9632-073423c465ed",
   "metadata": {},
   "outputs": [
    {
     "data": {
      "text/plain": [
       "'HHHIII'"
      ]
     },
     "execution_count": 30,
     "metadata": {},
     "output_type": "execute_result"
    }
   ],
   "source": [
    "def paper_doll(s):\n",
    "    ans = ''\n",
    "    for i in s:\n",
    "        ans += (i * 3)\n",
    "    return ans\n",
    "\n",
    "paper_doll('HI')"
   ]
  },
  {
   "cell_type": "code",
   "execution_count": 32,
   "id": "fa45decd-57e1-4bd3-8446-dc00d90112c3",
   "metadata": {},
   "outputs": [
    {
     "data": {
      "text/plain": [
       "'AAAMMMMMMUUU'"
      ]
     },
     "execution_count": 32,
     "metadata": {},
     "output_type": "execute_result"
    }
   ],
   "source": [
    "paper_doll('AMMU')"
   ]
  },
  {
   "cell_type": "code",
   "execution_count": null,
   "id": "0c9de506-3cf2-4e37-98a6-b3389212667e",
   "metadata": {},
   "outputs": [],
   "source": [
    "BLACK_JACK PROBLEM"
   ]
  },
  {
   "cell_type": "code",
   "execution_count": 34,
   "id": "1b043037-ba32-4d80-bc54-4ab729eb9300",
   "metadata": {},
   "outputs": [
    {
     "data": {
      "text/plain": [
       "'BUST'"
      ]
     },
     "execution_count": 34,
     "metadata": {},
     "output_type": "execute_result"
    }
   ],
   "source": [
    "def black_jack(a,b,c):\n",
    "    if sum((a,b,c)) <= 21:\n",
    "        return sum((a,b,c))\n",
    "    elif 11 in (a,b,c) and sum((a,b,c)) <= 31:\n",
    "        return sum((a,b,c)) - 10\n",
    "    else:\n",
    "        return 'BUST'\n",
    "\n",
    "black_jack(9,9,9)"
   ]
  },
  {
   "cell_type": "code",
   "execution_count": 36,
   "id": "ce73e6d3-8fa2-40ac-a3f8-fffde9afae12",
   "metadata": {},
   "outputs": [
    {
     "data": {
      "text/plain": [
       "19"
      ]
     },
     "execution_count": 36,
     "metadata": {},
     "output_type": "execute_result"
    }
   ],
   "source": [
    "black_jack(9,9,11)"
   ]
  },
  {
   "cell_type": "code",
   "execution_count": 38,
   "id": "20f9aaf0-d7fc-4f1f-b013-fc2c3c5fc6bf",
   "metadata": {},
   "outputs": [
    {
     "data": {
      "text/plain": [
       "12"
      ]
     },
     "execution_count": 38,
     "metadata": {},
     "output_type": "execute_result"
    }
   ],
   "source": [
    "black_jack(3,4,5)"
   ]
  },
  {
   "cell_type": "code",
   "execution_count": null,
   "id": "ef76d197-0632-429a-aae5-de29b0a406ac",
   "metadata": {},
   "outputs": [],
   "source": [
    "SPY GAME"
   ]
  },
  {
   "cell_type": "code",
   "execution_count": 46,
   "id": "8b2712ca-f357-45e0-8e4a-97f6f3765b28",
   "metadata": {},
   "outputs": [
    {
     "data": {
      "text/plain": [
       "True"
      ]
     },
     "execution_count": 46,
     "metadata": {},
     "output_type": "execute_result"
    }
   ],
   "source": [
    "def spy_game(nums):\n",
    "    code = [0,0,7,'x']\n",
    "    for i in nums:\n",
    "        if i == code[0]:\n",
    "            code.pop(0)\n",
    "\n",
    "    return len(code) == 1\n",
    "\n",
    "spy_game([1,2,3,0,0,1,7])"
   ]
  },
  {
   "cell_type": "code",
   "execution_count": null,
   "id": "ed80873e-d274-4cb6-94c1-ba67edaa608e",
   "metadata": {},
   "outputs": [],
   "source": []
  }
 ],
 "metadata": {
  "kernelspec": {
   "display_name": "Python 3 (ipykernel)",
   "language": "python",
   "name": "python3"
  },
  "language_info": {
   "codemirror_mode": {
    "name": "ipython",
    "version": 3
   },
   "file_extension": ".py",
   "mimetype": "text/x-python",
   "name": "python",
   "nbconvert_exporter": "python",
   "pygments_lexer": "ipython3",
   "version": "3.12.4"
  }
 },
 "nbformat": 4,
 "nbformat_minor": 5
}
