{
 "cells": [
  {
   "cell_type": "raw",
   "id": "6048f2a5-98ba-4064-a12c-77d8b6fc74aa",
   "metadata": {},
   "source": [
    "                                                LOOPS"
   ]
  },
  {
   "cell_type": "raw",
   "id": "4296421c-dd1a-4061-91f2-b1185dd5a220",
   "metadata": {},
   "source": [
    "                    FOR LOOP"
   ]
  },
  {
   "cell_type": "code",
   "execution_count": 1,
   "id": "c665f928-5fb2-49ad-aa09-535cde04bec7",
   "metadata": {},
   "outputs": [
    {
     "name": "stdout",
     "output_type": "stream",
     "text": [
      "1\n",
      "2\n",
      "3\n",
      "4\n",
      "5\n",
      "6\n",
      "7\n"
     ]
    }
   ],
   "source": [
    "mylist = [1,2,3,4,5,6,7]\n",
    "for i in mylist:\n",
    "    print(i)"
   ]
  },
  {
   "cell_type": "code",
   "execution_count": 8,
   "id": "7591a080-580d-4ab3-8802-06e451ff280d",
   "metadata": {},
   "outputs": [
    {
     "name": "stdout",
     "output_type": "stream",
     "text": [
      "Odd Num: 1\n",
      "EVEN\n",
      "Odd Num: 3\n",
      "EVEN\n",
      "Odd Num: 5\n",
      "EVEN\n",
      "Odd Num: 7\n"
     ]
    }
   ],
   "source": [
    "for i in mylist:\n",
    "    if i % 2 == 0:\n",
    "        print(\"EVEN\")\n",
    "    else:\n",
    "        print(f'Odd Num: {i}')"
   ]
  },
  {
   "cell_type": "code",
   "execution_count": 10,
   "id": "c5f88ecf-182e-467e-ae55-2214273058f9",
   "metadata": {},
   "outputs": [
    {
     "name": "stdout",
     "output_type": "stream",
     "text": [
      "1\n",
      "3\n",
      "6\n",
      "10\n",
      "15\n",
      "21\n",
      "28\n"
     ]
    }
   ],
   "source": [
    "count = 0\n",
    "for i in mylist:\n",
    "    count = count + i\n",
    "    print(count)"
   ]
  },
  {
   "cell_type": "code",
   "execution_count": 12,
   "id": "6379854f-94bb-4a65-b926-abaf5aa246f8",
   "metadata": {},
   "outputs": [
    {
     "name": "stdout",
     "output_type": "stream",
     "text": [
      "28\n"
     ]
    }
   ],
   "source": [
    "count = 0\n",
    "for i in mylist:\n",
    "    count = count + i\n",
    "print(count)"
   ]
  },
  {
   "cell_type": "raw",
   "id": "2e5be434-65ae-4bf8-b422-a8b66e77eaee",
   "metadata": {},
   "source": [
    "            USING FOR LOOP IN TUPLE"
   ]
  },
  {
   "cell_type": "code",
   "execution_count": 14,
   "id": "2c820c1b-ec0a-4612-8e43-5f8c8fb2d38a",
   "metadata": {},
   "outputs": [
    {
     "name": "stdout",
     "output_type": "stream",
     "text": [
      "1\n",
      "2\n",
      "4\n"
     ]
    }
   ],
   "source": [
    "x = (1,2,4)\n",
    "for i in x:\n",
    "    print(i)"
   ]
  },
  {
   "cell_type": "code",
   "execution_count": 23,
   "id": "3f1f398d-66f9-4fff-9dac-5856e033e20d",
   "metadata": {},
   "outputs": [
    {
     "name": "stdout",
     "output_type": "stream",
     "text": [
      "(1, 2)\n",
      "(3, 4)\n"
     ]
    }
   ],
   "source": [
    "ans = [(1,2), (3,4)]\n",
    "for i in ans:\n",
    "    print(i)"
   ]
  },
  {
   "cell_type": "code",
   "execution_count": 25,
   "id": "60cf5be8-7021-40de-a1d4-c1a8af479e3e",
   "metadata": {},
   "outputs": [
    {
     "name": "stdout",
     "output_type": "stream",
     "text": [
      "1\n",
      "3\n"
     ]
    }
   ],
   "source": [
    "for a,b in ans:\n",
    "    print(a)"
   ]
  },
  {
   "cell_type": "code",
   "execution_count": 27,
   "id": "c9e3cded-8ca2-4fde-929b-d21abce85fe1",
   "metadata": {},
   "outputs": [
    {
     "name": "stdout",
     "output_type": "stream",
     "text": [
      "1\n",
      "2\n",
      "3\n",
      "4\n"
     ]
    }
   ],
   "source": [
    "for (a,b) in ans:\n",
    "    print(a)\n",
    "    print(b)"
   ]
  },
  {
   "cell_type": "raw",
   "id": "f25b4c1e-1a93-4e04-ba48-549c0f561443",
   "metadata": {},
   "source": [
    "                            USING LOOPS IN DICTIONARIES"
   ]
  },
  {
   "cell_type": "code",
   "execution_count": 29,
   "id": "58239c00-e3d2-48d7-b646-f989f28ccd18",
   "metadata": {},
   "outputs": [
    {
     "name": "stdout",
     "output_type": "stream",
     "text": [
      "k1\n",
      "k2\n",
      "k3\n"
     ]
    }
   ],
   "source": [
    "d = {'k1':1, 'k2':3, 'k3':4}\n",
    "for i in d:\n",
    "    print(i)"
   ]
  },
  {
   "cell_type": "code",
   "execution_count": 33,
   "id": "8685bc12-e65d-4786-9faa-36edef574cc7",
   "metadata": {},
   "outputs": [
    {
     "name": "stdout",
     "output_type": "stream",
     "text": [
      "k3\n",
      "k3\n",
      "k3\n"
     ]
    }
   ],
   "source": [
    "for key, value in d:\n",
    "    print(i)"
   ]
  },
  {
   "cell_type": "code",
   "execution_count": 41,
   "id": "da65369c-84b6-47ba-9925-c1f1e663b127",
   "metadata": {},
   "outputs": [
    {
     "name": "stdout",
     "output_type": "stream",
     "text": [
      "1\n",
      "2\n",
      "3\n"
     ]
    }
   ],
   "source": [
    "for key, value in d:\n",
    "    print(value)"
   ]
  },
  {
   "cell_type": "raw",
   "id": "8aef48b8-5eef-47e9-8123-811bbc87287c",
   "metadata": {},
   "source": [
    "                        WHILE LOOP\n"
   ]
  },
  {
   "cell_type": "code",
   "execution_count": 47,
   "id": "1c71b9a2-c641-4f1f-8904-5e3256002fde",
   "metadata": {},
   "outputs": [
    {
     "name": "stdout",
     "output_type": "stream",
     "text": [
      "4\n",
      "5\n",
      "6\n",
      "7\n",
      "YEAHH\n"
     ]
    }
   ],
   "source": [
    "number = 4\n",
    "while number < 8:\n",
    "    print(number)\n",
    "    number = number+1\n",
    "else:\n",
    "    print(\"YEAHH\")"
   ]
  },
  {
   "cell_type": "code",
   "execution_count": null,
   "id": "a84a6ebc-15c5-4f1b-9e71-8e51bd66eb75",
   "metadata": {},
   "outputs": [],
   "source": [
    "num = 5\n",
    "while num < 10:\n",
    "    if num % 2 == 0:\n",
    "        break\n",
    "        num = num + 1\n",
    "    else:\n",
    "        print(\"no\")\n",
    "        "
   ]
  },
  {
   "cell_type": "code",
   "execution_count": null,
   "id": "b38d7370-5db9-493c-b9a3-8f613ba9f9bc",
   "metadata": {},
   "outputs": [],
   "source": [
    "string = 'sammy'"
   ]
  },
  {
   "cell_type": "code",
   "execution_count": null,
   "id": "70650300-8af4-4d27-8745-3b9cca08daa9",
   "metadata": {},
   "outputs": [],
   "source": [
    "for letter in string:\n",
    "    if letter == 'a':\n",
    "        continue\n",
    "print(letter)"
   ]
  },
  {
   "cell_type": "code",
   "execution_count": null,
   "id": "37909f85-ae9c-4c6d-b5f0-a4c9ae7dfec8",
   "metadata": {},
   "outputs": [],
   "source": [
    "mystring = 'Sammys'"
   ]
  },
  {
   "cell_type": "code",
   "execution_count": null,
   "id": "5425ea56-03bf-4eed-8b86-e726cc7740c8",
   "metadata": {},
   "outputs": [],
   "source": [
    "for letter in mystring:\n",
    "    if letter == 'a':\n",
    "        break\n",
    "    print(letter)"
   ]
  },
  {
   "cell_type": "code",
   "execution_count": null,
   "id": "cf8022d0-c530-4e8d-9587-1b5199dd1e4b",
   "metadata": {},
   "outputs": [],
   "source": []
  }
 ],
 "metadata": {
  "kernelspec": {
   "display_name": "Python 3 (ipykernel)",
   "language": "python",
   "name": "python3"
  },
  "language_info": {
   "codemirror_mode": {
    "name": "ipython",
    "version": 3
   },
   "file_extension": ".py",
   "mimetype": "text/x-python",
   "name": "python",
   "nbconvert_exporter": "python",
   "pygments_lexer": "ipython3",
   "version": "3.12.4"
  }
 },
 "nbformat": 4,
 "nbformat_minor": 5
}
