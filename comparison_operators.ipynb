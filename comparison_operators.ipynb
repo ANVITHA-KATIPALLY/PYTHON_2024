{
 "cells": [
  {
   "cell_type": "raw",
   "id": "79a5e241-62ed-437e-bfad-48e4caa18002",
   "metadata": {},
   "source": [
    "COMPARISION OPERATORS"
   ]
  },
  {
   "cell_type": "code",
   "execution_count": 1,
   "id": "eb1b9f6c-ddb3-41c9-b2bc-1ba7713bc919",
   "metadata": {},
   "outputs": [
    {
     "data": {
      "text/plain": [
       "True"
      ]
     },
     "execution_count": 1,
     "metadata": {},
     "output_type": "execute_result"
    }
   ],
   "source": [
    "'A' == 'A'"
   ]
  },
  {
   "cell_type": "code",
   "execution_count": 3,
   "id": "40de6bf3-a4f7-4af1-9bb8-c8898e37d1dc",
   "metadata": {},
   "outputs": [
    {
     "data": {
      "text/plain": [
       "False"
      ]
     },
     "execution_count": 3,
     "metadata": {},
     "output_type": "execute_result"
    }
   ],
   "source": [
    "2 == 3"
   ]
  },
  {
   "cell_type": "code",
   "execution_count": 5,
   "id": "10cbeb09-fe56-4017-ba97-0b0bcf019e59",
   "metadata": {},
   "outputs": [
    {
     "data": {
      "text/plain": [
       "True"
      ]
     },
     "execution_count": 5,
     "metadata": {},
     "output_type": "execute_result"
    }
   ],
   "source": [
    "2 != 3"
   ]
  },
  {
   "cell_type": "code",
   "execution_count": 7,
   "id": "8c717e29-c96d-4ca3-8453-4cea83019bdb",
   "metadata": {},
   "outputs": [
    {
     "data": {
      "text/plain": [
       "False"
      ]
     },
     "execution_count": 7,
     "metadata": {},
     "output_type": "execute_result"
    }
   ],
   "source": [
    "1 < 3 < 0"
   ]
  },
  {
   "cell_type": "code",
   "execution_count": 9,
   "id": "824d03e3-4be2-45df-842b-030be4a1dcac",
   "metadata": {},
   "outputs": [
    {
     "data": {
      "text/plain": [
       "False"
      ]
     },
     "execution_count": 9,
     "metadata": {},
     "output_type": "execute_result"
    }
   ],
   "source": [
    "\"APPLE\" == \"BALL\""
   ]
  },
  {
   "cell_type": "raw",
   "id": "56c0d2a7-0f85-497e-88ab-5cb13e7aa89b",
   "metadata": {},
   "source": [
    "TRUTH TABLE \n",
    "\n",
    "\n",
    "AND :\n",
    "T T T\n",
    "T F F\n",
    "F T F\n",
    "F F F\n",
    "OR :\n",
    "T F T\n",
    "F T T\n",
    "F F F\n",
    "T T T\n",
    "NOT :\n",
    "T F\n",
    "F T"
   ]
  }
 ],
 "metadata": {
  "kernelspec": {
   "display_name": "Python 3 (ipykernel)",
   "language": "python",
   "name": "python3"
  },
  "language_info": {
   "codemirror_mode": {
    "name": "ipython",
    "version": 3
   },
   "file_extension": ".py",
   "mimetype": "text/x-python",
   "name": "python",
   "nbconvert_exporter": "python",
   "pygments_lexer": "ipython3",
   "version": "3.12.4"
  }
 },
 "nbformat": 4,
 "nbformat_minor": 5
}
