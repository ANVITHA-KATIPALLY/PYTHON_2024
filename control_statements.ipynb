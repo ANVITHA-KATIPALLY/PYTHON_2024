{
 "cells": [
  {
   "cell_type": "raw",
   "id": "19783a4c-be00-4f67-8e9a-9fef4f562425",
   "metadata": {},
   "source": [
    "                  CONTROL STATEMENTS"
   ]
  },
  {
   "cell_type": "code",
   "execution_count": 1,
   "id": "31a89df2-881f-4780-98cc-2926d2e7b9f4",
   "metadata": {},
   "outputs": [
    {
     "name": "stdout",
     "output_type": "stream",
     "text": [
      "CORRECT\n"
     ]
    }
   ],
   "source": [
    "name = \"ammu\"\n",
    "if name == \"sathish\":\n",
    "    print(\"YES\")\n",
    "elif name == \"ammu\":\n",
    "    print(\"CORRECT\")\n",
    "else:\n",
    "    print(\"NO\")\n",
    "    "
   ]
  },
  {
   "cell_type": "code",
   "execution_count": 3,
   "id": "1be3fed1-78a7-4117-8731-3a43d5a86113",
   "metadata": {},
   "outputs": [
    {
     "name": "stdout",
     "output_type": "stream",
     "text": [
      "Greater\n"
     ]
    }
   ],
   "source": [
    "ans = 3\n",
    "if ans < 4:\n",
    "    print(\"Greater\")\n",
    "else:\n",
    "    print(\"Lesser\")"
   ]
  },
  {
   "cell_type": "code",
   "execution_count": 7,
   "id": "2f9946c1-233a-4201-abf9-83166a57f1c8",
   "metadata": {},
   "outputs": [
    {
     "name": "stdout",
     "output_type": "stream",
     "text": [
      "Correct\n"
     ]
    }
   ],
   "source": [
    "res = 7\n",
    "one = 5\n",
    "two = 8\n",
    "if res < one and res < two:\n",
    "    print(\"Yes\")\n",
    "elif res < one and one >two:\n",
    "    print(\"Partial\")\n",
    "elif res > one or res < two:\n",
    "    print(\"Correct\")\n",
    "else:\n",
    "    print(\"No\")"
   ]
  },
  {
   "cell_type": "code",
   "execution_count": null,
   "id": "2ad95932-c002-4d83-b3c2-661bf687464a",
   "metadata": {},
   "outputs": [],
   "source": []
  }
 ],
 "metadata": {
  "kernelspec": {
   "display_name": "Python 3 (ipykernel)",
   "language": "python",
   "name": "python3"
  },
  "language_info": {
   "codemirror_mode": {
    "name": "ipython",
    "version": 3
   },
   "file_extension": ".py",
   "mimetype": "text/x-python",
   "name": "python",
   "nbconvert_exporter": "python",
   "pygments_lexer": "ipython3",
   "version": "3.12.4"
  }
 },
 "nbformat": 4,
 "nbformat_minor": 5
}
