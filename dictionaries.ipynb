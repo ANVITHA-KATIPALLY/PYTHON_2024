{
 "cells": [
  {
   "cell_type": "raw",
   "id": "91725d7d-9ff9-486c-bd6c-fce7b4325d47",
   "metadata": {},
   "source": [
    "                                       DICTIONARIES\n"
   ]
  },
  {
   "cell_type": "code",
   "execution_count": 3,
   "id": "3efbf4fe-8049-4901-a952-62cf2256eba6",
   "metadata": {},
   "outputs": [
    {
     "data": {
      "text/plain": [
       "{'key1': 32, 'key2': [1, 3, 5], 'key3': {'indx': 299}}"
      ]
     },
     "execution_count": 3,
     "metadata": {},
     "output_type": "execute_result"
    }
   ],
   "source": [
    "d = {'key1':32, 'key2':[1,3,5], 'key3':{'indx':299}}\n",
    "d"
   ]
  },
  {
   "cell_type": "code",
   "execution_count": 5,
   "id": "f7ec58e8-1d59-4755-864f-6d8ccbc90e74",
   "metadata": {},
   "outputs": [
    {
     "data": {
      "text/plain": [
       "[1, 3, 5]"
      ]
     },
     "execution_count": 5,
     "metadata": {},
     "output_type": "execute_result"
    }
   ],
   "source": [
    "d['key2']"
   ]
  },
  {
   "cell_type": "code",
   "execution_count": 9,
   "id": "3abfd71c-47cc-4a72-a1d2-24e099a4955d",
   "metadata": {},
   "outputs": [
    {
     "data": {
      "text/plain": [
       "5"
      ]
     },
     "execution_count": 9,
     "metadata": {},
     "output_type": "execute_result"
    }
   ],
   "source": [
    "d['key2'][2]"
   ]
  },
  {
   "cell_type": "code",
   "execution_count": 11,
   "id": "f66e2e4d-113d-426d-b062-277f63a33ba7",
   "metadata": {},
   "outputs": [],
   "source": [
    "d['key2'].sort()"
   ]
  },
  {
   "cell_type": "code",
   "execution_count": 13,
   "id": "4ac6ee86-da48-4345-9f02-3157938cb78b",
   "metadata": {},
   "outputs": [
    {
     "name": "stdout",
     "output_type": "stream",
     "text": [
      "{'key1': 32, 'key2': [1, 3, 5], 'key3': {'indx': 299}}\n"
     ]
    }
   ],
   "source": [
    "print(d)"
   ]
  },
  {
   "cell_type": "code",
   "execution_count": 15,
   "id": "db1c40b2-460d-496f-9f07-716f66c72690",
   "metadata": {},
   "outputs": [
    {
     "data": {
      "text/plain": [
       "{'key1': 32, 'key2': [1, 3, 5], 'key3': {'indx': 299}, 'key4': ['a', 'd']}"
      ]
     },
     "execution_count": 15,
     "metadata": {},
     "output_type": "execute_result"
    }
   ],
   "source": [
    "d['key4'] = ['a', 'd']\n",
    "d"
   ]
  },
  {
   "cell_type": "code",
   "execution_count": 19,
   "id": "8b648cea-eafe-44e8-85c5-28b8f1038240",
   "metadata": {},
   "outputs": [
    {
     "data": {
      "text/plain": [
       "{'key1': 32, 'key2': [1, 3, 5], 'key3': {'indx': 299}, 'key4': ['a', 'c', 'd']}"
      ]
     },
     "execution_count": 19,
     "metadata": {},
     "output_type": "execute_result"
    }
   ],
   "source": [
    "d['key4'] = ['a', 'c', 'd']\n",
    "d"
   ]
  },
  {
   "cell_type": "code",
   "execution_count": 23,
   "id": "6af1051b-fa75-4831-8103-377f72d84588",
   "metadata": {},
   "outputs": [
    {
     "name": "stdout",
     "output_type": "stream",
     "text": [
      "{'key1': 32, 'key2': [1, 3, 5], 'key3': {'indx': 299}, 'key4': ['a', 'c', 'd']}\n"
     ]
    }
   ],
   "source": [
    "d['key4'].sort()\n",
    "print(d)"
   ]
  },
  {
   "cell_type": "code",
   "execution_count": 27,
   "id": "7efffa41-d1e3-415e-8b39-319ac711bfa0",
   "metadata": {},
   "outputs": [
    {
     "data": {
      "text/plain": [
       "{'key1': 100,\n",
       " 'key2': [1, 3, 5],\n",
       " 'key3': {'indx': 299},\n",
       " 'key4': ['a', 'c', 'd']}"
      ]
     },
     "execution_count": 27,
     "metadata": {},
     "output_type": "execute_result"
    }
   ],
   "source": [
    "d['key1'] = 100\n",
    "d"
   ]
  },
  {
   "cell_type": "code",
   "execution_count": null,
   "id": "c3d9fb33-4ca2-43d2-bde8-f51ac9fe181f",
   "metadata": {},
   "outputs": [],
   "source": []
  }
 ],
 "metadata": {
  "kernelspec": {
   "display_name": "Python 3 (ipykernel)",
   "language": "python",
   "name": "python3"
  },
  "language_info": {
   "codemirror_mode": {
    "name": "ipython",
    "version": 3
   },
   "file_extension": ".py",
   "mimetype": "text/x-python",
   "name": "python",
   "nbconvert_exporter": "python",
   "pygments_lexer": "ipython3",
   "version": "3.12.4"
  }
 },
 "nbformat": 4,
 "nbformat_minor": 5
}
