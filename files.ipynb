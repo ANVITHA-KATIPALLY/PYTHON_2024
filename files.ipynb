{
 "cells": [
  {
   "cell_type": "code",
   "execution_count": null,
   "id": "29cf2086-4c9f-4802-a74c-4e54cb59e87f",
   "metadata": {},
   "outputs": [],
   "source": [
    "                                        FILES"
   ]
  },
  {
   "cell_type": "code",
   "execution_count": 5,
   "id": "21d14ae3-a6da-462b-a113-6ab792a50d93",
   "metadata": {},
   "outputs": [
    {
     "name": "stdout",
     "output_type": "stream",
     "text": [
      "Writing myfile.txt\n"
     ]
    }
   ],
   "source": [
    "%%writefile myfile.txt\n",
    "HELLO\n",
    "ONE\n",
    "TWO"
   ]
  },
  {
   "cell_type": "code",
   "execution_count": 7,
   "id": "11e0859d-d479-4049-8193-bc90410c781c",
   "metadata": {},
   "outputs": [
    {
     "data": {
      "text/plain": [
       "'/Users/sathish/MYPYTHON_STUFF'"
      ]
     },
     "execution_count": 7,
     "metadata": {},
     "output_type": "execute_result"
    }
   ],
   "source": [
    "pwd"
   ]
  },
  {
   "cell_type": "code",
   "execution_count": 9,
   "id": "f43884ce-ad19-49ec-b344-0cc8c72e60b4",
   "metadata": {},
   "outputs": [
    {
     "ename": "NameError",
     "evalue": "name 'myfile' is not defined",
     "output_type": "error",
     "traceback": [
      "\u001b[0;31m---------------------------------------------------------------------------\u001b[0m",
      "\u001b[0;31mNameError\u001b[0m                                 Traceback (most recent call last)",
      "Cell \u001b[0;32mIn[9], line 1\u001b[0m\n\u001b[0;32m----> 1\u001b[0m myfile\u001b[38;5;241m.\u001b[39mread()\n",
      "\u001b[0;31mNameError\u001b[0m: name 'myfile' is not defined"
     ]
    }
   ],
   "source": [
    "myfile.read()"
   ]
  },
  {
   "cell_type": "code",
   "execution_count": 11,
   "id": "2b9925d6-0ff7-4a77-aec6-0bb111344d1b",
   "metadata": {},
   "outputs": [],
   "source": [
    "with open('myfile.txt') as new:\n",
    "    contents = new.read()\n",
    "    "
   ]
  },
  {
   "cell_type": "code",
   "execution_count": 13,
   "id": "55b8a6c4-590d-4649-b41e-815728d9493a",
   "metadata": {},
   "outputs": [
    {
     "data": {
      "text/plain": [
       "'HELLO\\nONE\\nTWO\\n'"
      ]
     },
     "execution_count": 13,
     "metadata": {},
     "output_type": "execute_result"
    }
   ],
   "source": [
    "contents"
   ]
  },
  {
   "cell_type": "code",
   "execution_count": 17,
   "id": "4e736eda-c4d6-4156-81a2-79d69698c204",
   "metadata": {},
   "outputs": [
    {
     "ename": "TypeError",
     "evalue": "TextIOWrapper.write() takes exactly one argument (0 given)",
     "output_type": "error",
     "traceback": [
      "\u001b[0;31m---------------------------------------------------------------------------\u001b[0m",
      "\u001b[0;31mTypeError\u001b[0m                                 Traceback (most recent call last)",
      "Cell \u001b[0;32mIn[17], line 2\u001b[0m\n\u001b[1;32m      1\u001b[0m \u001b[38;5;28;01mwith\u001b[39;00m \u001b[38;5;28mopen\u001b[39m(\u001b[38;5;124m'\u001b[39m\u001b[38;5;124mmyfile.txt\u001b[39m\u001b[38;5;124m'\u001b[39m) \u001b[38;5;28;01mas\u001b[39;00m new:\n\u001b[0;32m----> 2\u001b[0m     contents \u001b[38;5;241m=\u001b[39m new\u001b[38;5;241m.\u001b[39mwrite()\n\u001b[1;32m      3\u001b[0m contents\n",
      "\u001b[0;31mTypeError\u001b[0m: TextIOWrapper.write() takes exactly one argument (0 given)"
     ]
    }
   ],
   "source": [
    "with open('myfile.txt') as new:\n",
    "    contents = new.write()\n",
    "contents"
   ]
  },
  {
   "cell_type": "code",
   "execution_count": 21,
   "id": "238ef581-8516-426a-b4b7-416c2998f71d",
   "metadata": {},
   "outputs": [
    {
     "ename": "NameError",
     "evalue": "name 'myfile' is not defined",
     "output_type": "error",
     "traceback": [
      "\u001b[0;31m---------------------------------------------------------------------------\u001b[0m",
      "\u001b[0;31mNameError\u001b[0m                                 Traceback (most recent call last)",
      "Cell \u001b[0;32mIn[21], line 1\u001b[0m\n\u001b[0;32m----> 1\u001b[0m myfile\u001b[38;5;241m.\u001b[39mtxt\u001b[38;5;241m.\u001b[39mseek(\u001b[38;5;241m0\u001b[39m)\n",
      "\u001b[0;31mNameError\u001b[0m: name 'myfile' is not defined"
     ]
    }
   ],
   "source": [
    "myfile.txt.seek(0)"
   ]
  },
  {
   "cell_type": "code",
   "execution_count": 23,
   "id": "5e3446e6-8045-4b88-bc25-857f9491e7d0",
   "metadata": {},
   "outputs": [
    {
     "name": "stdout",
     "output_type": "stream",
     "text": [
      "Writing my_new_file.txt\n"
     ]
    }
   ],
   "source": [
    "%%writefile my_new_file.txt\n",
    "ONE TO ONE\n",
    "TWO TO TWO\n",
    "THREE TO THREE\n"
   ]
  },
  {
   "cell_type": "code",
   "execution_count": 25,
   "id": "aa70f006-1ded-443e-a402-90c3c6d8a34e",
   "metadata": {},
   "outputs": [
    {
     "name": "stdout",
     "output_type": "stream",
     "text": [
      "ONE TO ONE\n",
      "TWO TO TWO\n",
      "THREE TO THREE\n",
      "\n"
     ]
    }
   ],
   "source": [
    "with open('my_new_file.txt', mode = 'r') as f:\n",
    "    print(f.read())"
   ]
  },
  {
   "cell_type": "code",
   "execution_count": 27,
   "id": "9e33771d-cda1-4900-9e17-70a01142da4d",
   "metadata": {},
   "outputs": [],
   "source": [
    "with open('my_new_file.txt', mode = 'a') as f:\n",
    "    f.write('FOUR TO FOUR')\n",
    "    "
   ]
  },
  {
   "cell_type": "code",
   "execution_count": 29,
   "id": "d864f3ad-d901-4916-ac76-588bb7a3da1f",
   "metadata": {},
   "outputs": [
    {
     "name": "stdout",
     "output_type": "stream",
     "text": [
      "ONE TO ONE\n",
      "TWO TO TWO\n",
      "THREE TO THREE\n",
      "FOUR TO FOUR\n"
     ]
    }
   ],
   "source": [
    "with open('my_new_file.txt', mode = 'r') as f:\n",
    "    print(f.read())"
   ]
  },
  {
   "cell_type": "code",
   "execution_count": 31,
   "id": "74bcf41d-aa74-4ce5-86a3-b715c37091af",
   "metadata": {},
   "outputs": [],
   "source": [
    "with open('my_new_file.txt', mode = 'w') as f:\n",
    "    f.write('IAM CUTE')\n",
    "    "
   ]
  },
  {
   "cell_type": "code",
   "execution_count": 33,
   "id": "86679a56-d1e3-45d6-8598-2ec614b1c88a",
   "metadata": {},
   "outputs": [
    {
     "name": "stdout",
     "output_type": "stream",
     "text": [
      "IAM CUTE\n"
     ]
    }
   ],
   "source": [
    "with open('my_new_file.txt', mode = 'r') as f:\n",
    "    print(f.read())"
   ]
  },
  {
   "cell_type": "code",
   "execution_count": null,
   "id": "6b0899f1-3d99-4e39-8129-4af30f361929",
   "metadata": {},
   "outputs": [],
   "source": []
  }
 ],
 "metadata": {
  "kernelspec": {
   "display_name": "Python 3 (ipykernel)",
   "language": "python",
   "name": "python3"
  },
  "language_info": {
   "codemirror_mode": {
    "name": "ipython",
    "version": 3
   },
   "file_extension": ".py",
   "mimetype": "text/x-python",
   "name": "python",
   "nbconvert_exporter": "python",
   "pygments_lexer": "ipython3",
   "version": "3.12.4"
  }
 },
 "nbformat": 4,
 "nbformat_minor": 5
}
