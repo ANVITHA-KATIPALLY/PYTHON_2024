{
 "cells": [
  {
   "cell_type": "raw",
   "id": "d03b1500-f07a-435d-b606-b3575986ff81",
   "metadata": {},
   "source": [
    "                        FUNCTIONS\n"
   ]
  },
  {
   "cell_type": "code",
   "execution_count": 7,
   "id": "985adc78-b78e-4064-be5b-2d8a866877fc",
   "metadata": {},
   "outputs": [
    {
     "name": "stdout",
     "output_type": "stream",
     "text": [
      "hello ammu\n"
     ]
    }
   ],
   "source": [
    "def name_of(name):\n",
    "    print(f'hello {name}')\n",
    "    \n",
    "res = name_of(\"ammu\")\n",
    "res"
   ]
  },
  {
   "cell_type": "code",
   "execution_count": 9,
   "id": "bed1da76-2469-4b63-a16d-b439f980810b",
   "metadata": {},
   "outputs": [
    {
     "data": {
      "text/plain": [
       "5"
      ]
     },
     "execution_count": 9,
     "metadata": {},
     "output_type": "execute_result"
    }
   ],
   "source": [
    "def value(n1, n2):\n",
    "    return n1 + n2\n",
    "\n",
    "r = value(2,3)\n",
    "r"
   ]
  },
  {
   "cell_type": "raw",
   "id": "81c465a4-32de-4693-b8da-5f1e71831525",
   "metadata": {},
   "source": [
    "    CHECK EVEN NUM "
   ]
  },
  {
   "cell_type": "code",
   "execution_count": 14,
   "id": "c4b0e8b4-e1e1-4dbc-a09f-9c72e4d6d211",
   "metadata": {},
   "outputs": [
    {
     "data": {
      "text/plain": [
       "False"
      ]
     },
     "execution_count": 14,
     "metadata": {},
     "output_type": "execute_result"
    }
   ],
   "source": [
    "def even_check(num):\n",
    "    if num % 2 == 0:\n",
    "        return True\n",
    "    else:\n",
    "        return False\n",
    "\n",
    "even_check(5)"
   ]
  },
  {
   "cell_type": "code",
   "execution_count": 16,
   "id": "0571bee4-d68e-4568-81e8-5f9de96cfe2a",
   "metadata": {},
   "outputs": [
    {
     "data": {
      "text/plain": [
       "True"
      ]
     },
     "execution_count": 16,
     "metadata": {},
     "output_type": "execute_result"
    }
   ],
   "source": [
    "def even_check(num):\n",
    "    res = num % 2 == 0\n",
    "    return res\n",
    "even_check(4)"
   ]
  },
  {
   "cell_type": "code",
   "execution_count": 18,
   "id": "d179e8e3-88cb-4532-be4a-846643a192f1",
   "metadata": {},
   "outputs": [
    {
     "data": {
      "text/plain": [
       "False"
      ]
     },
     "execution_count": 18,
     "metadata": {},
     "output_type": "execute_result"
    }
   ],
   "source": [
    "even_check(5)"
   ]
  },
  {
   "cell_type": "raw",
   "id": "3b166df2-1cd4-4757-b954-b03b84780413",
   "metadata": {},
   "source": [
    "check from a list where the elements are even are not in boolean"
   ]
  },
  {
   "cell_type": "code",
   "execution_count": 20,
   "id": "9d560475-21c9-4382-a62d-1d935214e1d7",
   "metadata": {},
   "outputs": [
    {
     "data": {
      "text/plain": [
       "True"
      ]
     },
     "execution_count": 20,
     "metadata": {},
     "output_type": "execute_result"
    }
   ],
   "source": [
    "def list_even(n):\n",
    "    for i in n:\n",
    "        if i % 2 == 0:\n",
    "            return True\n",
    "        else:\n",
    "            pass\n",
    "\n",
    "list_even([2,1,4])"
   ]
  },
  {
   "cell_type": "code",
   "execution_count": 22,
   "id": "419f5417-5116-4a0a-80c2-3fa5a8955745",
   "metadata": {},
   "outputs": [],
   "source": [
    "list_even([1,3,5])"
   ]
  },
  {
   "cell_type": "raw",
   "id": "86bade1e-bbd3-48aa-8d7d-5522f5a94ba6",
   "metadata": {},
   "source": [
    "from the list print the even numbers "
   ]
  },
  {
   "cell_type": "code",
   "execution_count": 24,
   "id": "b88cc9c5-069f-4c0a-9c24-698ab65a986d",
   "metadata": {},
   "outputs": [
    {
     "data": {
      "text/plain": [
       "[2, 4, 6, 8]"
      ]
     },
     "execution_count": 24,
     "metadata": {},
     "output_type": "execute_result"
    }
   ],
   "source": [
    "even = []\n",
    "def list_even(num):\n",
    "    for i in num:\n",
    "        if i % 2 == 0:\n",
    "            even.append(i)\n",
    "        else:\n",
    "            pass\n",
    "    return even\n",
    "\n",
    "list_even([2,1,4,6,8,7])"
   ]
  },
  {
   "cell_type": "code",
   "execution_count": 26,
   "id": "2438b8a0-141a-4deb-a422-2d1b1a408473",
   "metadata": {},
   "outputs": [
    {
     "data": {
      "text/plain": [
       "[2, 4, 6, 8]"
      ]
     },
     "execution_count": 26,
     "metadata": {},
     "output_type": "execute_result"
    }
   ],
   "source": [
    "list_even([1,3,5])"
   ]
  },
  {
   "cell_type": "raw",
   "id": "6141a080-705d-417e-be31-360e5d09cf31",
   "metadata": {},
   "source": [
    "tuple unpacking where check employee of month based in working hours"
   ]
  },
  {
   "cell_type": "code",
   "execution_count": 51,
   "id": "b85a2cbd-4194-4b67-9d4c-8b16cfb02093",
   "metadata": {},
   "outputs": [
    {
     "data": {
      "text/plain": [
       "('xzzz', 800)"
      ]
     },
     "execution_count": 51,
     "metadata": {},
     "output_type": "execute_result"
    }
   ],
   "source": [
    "work_hours = [(\"ammu\", 100), (\"xy\", 300), (\"xzzz\", 800)]\n",
    "def employ_check(work_hours):\n",
    "    currnt_hour = 0\n",
    "    employee_month = ''\n",
    "    for employee, hours in work_hours:\n",
    "        if hours > currnt_hour:\n",
    "            currnt_hour = hours\n",
    "            employee_month = employee\n",
    "        else:\n",
    "            pass       \n",
    "    return employee_month,currnt_hour\n",
    "employ_check(work_hours)\n",
    "\n"
   ]
  },
  {
   "cell_type": "code",
   "execution_count": 53,
   "id": "7457417d-791c-4008-ad5f-5f6de6b9a32d",
   "metadata": {},
   "outputs": [
    {
     "data": {
      "text/plain": [
       "('xzzz', 800)"
      ]
     },
     "execution_count": 53,
     "metadata": {},
     "output_type": "execute_result"
    }
   ],
   "source": [
    "\n",
    "def employ_check(work_hours):\n",
    "    currnt_hour = 0\n",
    "    employee_month = ''\n",
    "    for employee, hours in work_hours:\n",
    "        if hours > currnt_hour:\n",
    "            currnt_hour = hours\n",
    "            employee_month = employee\n",
    "        else:\n",
    "            pass       \n",
    "    return employee_month,currnt_hour\n",
    "\n",
    "work_hours = [(\"ammu\", 100), (\"xy\", 300), (\"xzzz\", 800)]\n",
    "employ_check(work_hours)\n",
    "\n"
   ]
  },
  {
   "cell_type": "raw",
   "id": "f7365422-d06f-4cf0-ac53-9fc2d5783ceb",
   "metadata": {},
   "source": [
    "interaction between functions"
   ]
  },
  {
   "cell_type": "code",
   "execution_count": 59,
   "id": "78d8c0fc-80fb-4a5f-9e87-4d4c239d506e",
   "metadata": {},
   "outputs": [
    {
     "data": {
      "text/plain": [
       "['O', '', '']"
      ]
     },
     "execution_count": 59,
     "metadata": {},
     "output_type": "execute_result"
    }
   ],
   "source": [
    "from random import shuffle\n",
    "def shuffle_list(mylist):\n",
    "    shuffle(mylist)\n",
    "    return mylist\n",
    "\n",
    "mylist = ['', 'O', '']\n",
    "shuffle_list(mylist)"
   ]
  },
  {
   "cell_type": "code",
   "execution_count": 62,
   "id": "ea468713-a5d2-405a-a91f-6d994d85f9c4",
   "metadata": {},
   "outputs": [
    {
     "name": "stdin",
     "output_type": "stream",
     "text": [
      "pick num from: 0, 1, 2 4\n",
      "pick num from: 0, 1, 2 2\n"
     ]
    },
    {
     "data": {
      "text/plain": [
       "2"
      ]
     },
     "execution_count": 62,
     "metadata": {},
     "output_type": "execute_result"
    }
   ],
   "source": [
    "def player_guess():\n",
    "    guess = ''\n",
    "    while guess not in ['0', '1', '2']:\n",
    "        guess = input(\"pick num from: 0, 1, 2\")\n",
    "    return int(guess)\n",
    "\n",
    "player_guess()"
   ]
  },
  {
   "cell_type": "code",
   "execution_count": 68,
   "id": "85ecc048-1830-4afe-ad3e-a9768e891149",
   "metadata": {},
   "outputs": [
    {
     "name": "stdin",
     "output_type": "stream",
     "text": [
      "pick num from: 0, 1, 2 1\n"
     ]
    },
    {
     "name": "stdout",
     "output_type": "stream",
     "text": [
      "incorrect\n",
      "['O', '', '']\n"
     ]
    }
   ],
   "source": [
    "def check_guess(mylist, guess):\n",
    "    if mylist[guess] == 'O':\n",
    "        print(\"corret\")\n",
    "    else:\n",
    "        print(\"incorrect\")\n",
    "        print(mylist)\n",
    "\n",
    "mylist = ['', 'O', '']\n",
    "mix = shuffle_list(mylist)\n",
    "guess = player_guess()\n",
    "check_guess(mix, guess)"
   ]
  },
  {
   "cell_type": "raw",
   "id": "e7d1a687-7275-4f4b-b2ce-b79f967d56bb",
   "metadata": {},
   "source": [
    "*args and **kwargs"
   ]
  },
  {
   "cell_type": "code",
   "execution_count": 73,
   "id": "03c8f549-3889-499b-976f-550eac2c6560",
   "metadata": {},
   "outputs": [
    {
     "name": "stdout",
     "output_type": "stream",
     "text": [
      "(12, 34)\n",
      "I would like fruits (12, 34)\n"
     ]
    }
   ],
   "source": [
    "def myfunc(*args):\n",
    "    print(args)\n",
    "    print(f'I would like fruits {args}')\n",
    "myfunc(12,34)"
   ]
  },
  {
   "cell_type": "code",
   "execution_count": 81,
   "id": "3c7c25f5-cf1a-4fc1-bebb-4598233dc083",
   "metadata": {},
   "outputs": [
    {
     "name": "stdout",
     "output_type": "stream",
     "text": [
      "{'fruits': 'apple'}\n"
     ]
    },
    {
     "ename": "NameError",
     "evalue": "name 'fruits' is not defined",
     "output_type": "error",
     "traceback": [
      "\u001b[0;31m---------------------------------------------------------------------------\u001b[0m",
      "\u001b[0;31mNameError\u001b[0m                                 Traceback (most recent call last)",
      "Cell \u001b[0;32mIn[81], line 8\u001b[0m\n\u001b[1;32m      5\u001b[0m     \u001b[38;5;28;01melse\u001b[39;00m:\n\u001b[1;32m      6\u001b[0m         \u001b[38;5;28mprint\u001b[39m(\u001b[38;5;124m\"\u001b[39m\u001b[38;5;124mnot found\u001b[39m\u001b[38;5;124m\"\u001b[39m)\n\u001b[0;32m----> 8\u001b[0m myfunc(fruits \u001b[38;5;241m=\u001b[39m \u001b[38;5;124m'\u001b[39m\u001b[38;5;124mapple\u001b[39m\u001b[38;5;124m'\u001b[39m)\n",
      "Cell \u001b[0;32mIn[81], line 4\u001b[0m, in \u001b[0;36mmyfunc\u001b[0;34m(**kwargs)\u001b[0m\n\u001b[1;32m      2\u001b[0m \u001b[38;5;28mprint\u001b[39m(kwargs)\n\u001b[1;32m      3\u001b[0m \u001b[38;5;28;01mif\u001b[39;00m \u001b[38;5;124m'\u001b[39m\u001b[38;5;124mfruits\u001b[39m\u001b[38;5;124m'\u001b[39m \u001b[38;5;129;01min\u001b[39;00m kwargs:\n\u001b[0;32m----> 4\u001b[0m     \u001b[38;5;28mprint\u001b[39m(\u001b[38;5;124mf\u001b[39m\u001b[38;5;124m'\u001b[39m\u001b[38;5;124mi would like fruits \u001b[39m\u001b[38;5;132;01m{\u001b[39;00mkwargs[fruits]\u001b[38;5;132;01m}\u001b[39;00m\u001b[38;5;124m'\u001b[39m)\n\u001b[1;32m      5\u001b[0m \u001b[38;5;28;01melse\u001b[39;00m:\n\u001b[1;32m      6\u001b[0m     \u001b[38;5;28mprint\u001b[39m(\u001b[38;5;124m\"\u001b[39m\u001b[38;5;124mnot found\u001b[39m\u001b[38;5;124m\"\u001b[39m)\n",
      "\u001b[0;31mNameError\u001b[0m: name 'fruits' is not defined"
     ]
    }
   ],
   "source": [
    "def myfunc(**kwargs):\n",
    "    print(kwargs)\n",
    "    if 'fruits' in kwargs:\n",
    "        print(f'i would like fruits {kwargs[fruits]}')\n",
    "    else:\n",
    "        print(\"not found\")\n",
    "\n",
    "myfunc(fruits = 'apple')\n"
   ]
  },
  {
   "cell_type": "code",
   "execution_count": 85,
   "id": "ab8e1cdb-9ecc-4df9-bf73-ab30347be391",
   "metadata": {},
   "outputs": [
    {
     "name": "stdout",
     "output_type": "stream",
     "text": [
      "(10, 20)\n",
      "{'fruit': 'apple'}\n"
     ]
    },
    {
     "ename": "KeyError",
     "evalue": "'fruits'",
     "output_type": "error",
     "traceback": [
      "\u001b[0;31m---------------------------------------------------------------------------\u001b[0m",
      "\u001b[0;31mKeyError\u001b[0m                                  Traceback (most recent call last)",
      "Cell \u001b[0;32mIn[85], line 5\u001b[0m\n\u001b[1;32m      3\u001b[0m     \u001b[38;5;28mprint\u001b[39m(kwargs)\n\u001b[1;32m      4\u001b[0m     \u001b[38;5;28mprint\u001b[39m(\u001b[38;5;124mf\u001b[39m\u001b[38;5;124m'\u001b[39m\u001b[38;5;124mwould like \u001b[39m\u001b[38;5;132;01m{\u001b[39;00margs[\u001b[38;5;241m0\u001b[39m]\u001b[38;5;132;01m}\u001b[39;00m\u001b[38;5;124m \u001b[39m\u001b[38;5;132;01m{\u001b[39;00mkwargs[\u001b[38;5;124m'\u001b[39m\u001b[38;5;124mfruits\u001b[39m\u001b[38;5;124m'\u001b[39m]\u001b[38;5;132;01m}\u001b[39;00m\u001b[38;5;124m'\u001b[39m)\n\u001b[0;32m----> 5\u001b[0m myfunc(\u001b[38;5;241m10\u001b[39m,\u001b[38;5;241m20\u001b[39m, fruit \u001b[38;5;241m=\u001b[39m \u001b[38;5;124m\"\u001b[39m\u001b[38;5;124mapple\u001b[39m\u001b[38;5;124m\"\u001b[39m)\n",
      "Cell \u001b[0;32mIn[85], line 4\u001b[0m, in \u001b[0;36mmyfunc\u001b[0;34m(*args, **kwargs)\u001b[0m\n\u001b[1;32m      2\u001b[0m \u001b[38;5;28mprint\u001b[39m(args)\n\u001b[1;32m      3\u001b[0m \u001b[38;5;28mprint\u001b[39m(kwargs)\n\u001b[0;32m----> 4\u001b[0m \u001b[38;5;28mprint\u001b[39m(\u001b[38;5;124mf\u001b[39m\u001b[38;5;124m'\u001b[39m\u001b[38;5;124mwould like \u001b[39m\u001b[38;5;132;01m{\u001b[39;00margs[\u001b[38;5;241m0\u001b[39m]\u001b[38;5;132;01m}\u001b[39;00m\u001b[38;5;124m \u001b[39m\u001b[38;5;132;01m{\u001b[39;00mkwargs[\u001b[38;5;124m'\u001b[39m\u001b[38;5;124mfruits\u001b[39m\u001b[38;5;124m'\u001b[39m]\u001b[38;5;132;01m}\u001b[39;00m\u001b[38;5;124m'\u001b[39m)\n",
      "\u001b[0;31mKeyError\u001b[0m: 'fruits'"
     ]
    }
   ],
   "source": [
    "def myfunc(*args, **kwargs):\n",
    "    print(args)\n",
    "    print(kwargs)\n",
    "    print(f'would like {args[0]} {kwargs['fruits']}')\n",
    "myfunc(10,20, fruit = \"apple\")"
   ]
  },
  {
   "cell_type": "code",
   "execution_count": null,
   "id": "99cdea22-4648-4dda-a2d5-59953a186cd9",
   "metadata": {},
   "outputs": [],
   "source": [
    "LEVEL - 2 PROBLEMS"
   ]
  }
 ],
 "metadata": {
  "kernelspec": {
   "display_name": "Python 3 (ipykernel)",
   "language": "python",
   "name": "python3"
  },
  "language_info": {
   "codemirror_mode": {
    "name": "ipython",
    "version": 3
   },
   "file_extension": ".py",
   "mimetype": "text/x-python",
   "name": "python",
   "nbconvert_exporter": "python",
   "pygments_lexer": "ipython3",
   "version": "3.12.4"
  }
 },
 "nbformat": 4,
 "nbformat_minor": 5
}
