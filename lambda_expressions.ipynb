{
 "cells": [
  {
   "cell_type": "raw",
   "id": "281aec5d-2589-47c5-81a7-d6f4f98c7279",
   "metadata": {},
   "source": [
    "MAP FUNCTION"
   ]
  },
  {
   "cell_type": "code",
   "execution_count": 1,
   "id": "000623b7-fc9b-4670-ac7c-c25256fa5d68",
   "metadata": {},
   "outputs": [
    {
     "data": {
      "text/plain": [
       "[8, 27, 64]"
      ]
     },
     "execution_count": 1,
     "metadata": {},
     "output_type": "execute_result"
    }
   ],
   "source": [
    "def cube(num):\n",
    "    return num**3\n",
    "\n",
    "my_nums = [2,3,4]\n",
    "list(map(cube, my_nums))"
   ]
  },
  {
   "cell_type": "code",
   "execution_count": 3,
   "id": "50f1bf3c-9de1-4c13-bfc9-d4fee2aab267",
   "metadata": {},
   "outputs": [
    {
     "data": {
      "text/plain": [
       "['EVEN', 'E', 'I']"
      ]
     },
     "execution_count": 3,
     "metadata": {},
     "output_type": "execute_result"
    }
   ],
   "source": [
    "def character(string):\n",
    "    if len(string)%2 == 0:\n",
    "        return 'EVEN'\n",
    "    else:\n",
    "        return string[1]\n",
    "\n",
    "my_character = ['AMMU', 'HEL', 'WISED']\n",
    "list(map(character, my_character))"
   ]
  },
  {
   "cell_type": "raw",
   "id": "3be6e260-10e5-4ec6-adec-58fb689dcd37",
   "metadata": {},
   "source": [
    "FILTER FUNCTION"
   ]
  },
  {
   "cell_type": "code",
   "execution_count": 7,
   "id": "5b4a8fb7-aa61-4295-a915-03f076ea133b",
   "metadata": {},
   "outputs": [
    {
     "data": {
      "text/plain": [
       "[2, 4]"
      ]
     },
     "execution_count": 7,
     "metadata": {},
     "output_type": "execute_result"
    }
   ],
   "source": [
    "def check_num(num):\n",
    "    return num % 2 == 0\n",
    "\n",
    "my_nums = [2,3,4,5]\n",
    "list(filter(check_num, my_nums))"
   ]
  },
  {
   "cell_type": "code",
   "execution_count": 9,
   "id": "9795c742-9ed9-4419-9759-74998c65a734",
   "metadata": {},
   "outputs": [
    {
     "name": "stdout",
     "output_type": "stream",
     "text": [
      "2\n",
      "4\n"
     ]
    }
   ],
   "source": [
    "def check_num(num):\n",
    "    return num % 2 == 0\n",
    "\n",
    "my_nums = [2,3,4,5]\n",
    "for i in filter(check_num, my_nums):\n",
    "    print(i)"
   ]
  },
  {
   "cell_type": "raw",
   "id": "1c421d43-6c33-4c84-90e1-69362f9e9b42",
   "metadata": {},
   "source": [
    "MAP AND FILTER IN LAMBDA EXPRESSION"
   ]
  },
  {
   "cell_type": "code",
   "execution_count": 11,
   "id": "6aa5f812-aff4-4ef8-bbe3-9d16346a82d8",
   "metadata": {},
   "outputs": [
    {
     "data": {
      "text/plain": [
       "4"
      ]
     },
     "execution_count": 11,
     "metadata": {},
     "output_type": "execute_result"
    }
   ],
   "source": [
    "square = lambda num : num ** 2\n",
    "square(2)"
   ]
  },
  {
   "cell_type": "code",
   "execution_count": 13,
   "id": "649b7fdb-ef60-486a-8ec3-05bebb0f86c0",
   "metadata": {},
   "outputs": [
    {
     "data": {
      "text/plain": [
       "[4, 9, 16, 25]"
      ]
     },
     "execution_count": 13,
     "metadata": {},
     "output_type": "execute_result"
    }
   ],
   "source": [
    "list(map(lambda n : n**2, my_nums))"
   ]
  },
  {
   "cell_type": "code",
   "execution_count": 15,
   "id": "8070ebfe-2986-4058-8e40-0c18949aae87",
   "metadata": {},
   "outputs": [
    {
     "data": {
      "text/plain": [
       "[2, 4]"
      ]
     },
     "execution_count": 15,
     "metadata": {},
     "output_type": "execute_result"
    }
   ],
   "source": [
    "list(filter(lambda i : i % 2 == 0, my_nums))"
   ]
  },
  {
   "cell_type": "code",
   "execution_count": null,
   "id": "71d17a3a-be07-4d9e-9904-69348b88a03c",
   "metadata": {},
   "outputs": [],
   "source": []
  }
 ],
 "metadata": {
  "kernelspec": {
   "display_name": "Python 3 (ipykernel)",
   "language": "python",
   "name": "python3"
  },
  "language_info": {
   "codemirror_mode": {
    "name": "ipython",
    "version": 3
   },
   "file_extension": ".py",
   "mimetype": "text/x-python",
   "name": "python",
   "nbconvert_exporter": "python",
   "pygments_lexer": "ipython3",
   "version": "3.12.4"
  }
 },
 "nbformat": 4,
 "nbformat_minor": 5
}
