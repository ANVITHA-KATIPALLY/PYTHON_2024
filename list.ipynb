{
 "cells": [
  {
   "cell_type": "raw",
   "id": "c1a11565-6866-4b8b-bf1b-0f5b117dcc8a",
   "metadata": {},
   "source": [
    "                             LIST"
   ]
  },
  {
   "cell_type": "code",
   "execution_count": 25,
   "id": "cfa31a53-64ca-4626-b4f1-e245932f6a15",
   "metadata": {},
   "outputs": [
    {
     "data": {
      "text/plain": [
       "4"
      ]
     },
     "execution_count": 25,
     "metadata": {},
     "output_type": "execute_result"
    }
   ],
   "source": [
    "lists = ['a', 3, '34']\n",
    "lists.append(\"hello\")\n",
    "len(lists)"
   ]
  },
  {
   "cell_type": "code",
   "execution_count": 27,
   "id": "582936e1-7b7c-4f2a-9cb2-38e16414ab24",
   "metadata": {},
   "outputs": [
    {
     "data": {
      "text/plain": [
       "'hello'"
      ]
     },
     "execution_count": 27,
     "metadata": {},
     "output_type": "execute_result"
    }
   ],
   "source": [
    "lists[3]\n"
   ]
  },
  {
   "cell_type": "raw",
   "id": "7a0d1b52-a6bb-4c9e-a033-e4f94b96d2e8",
   "metadata": {},
   "source": [
    "another = [355, 'ammu']\n",
    "total = lists + another\n",
    "print(total)"
   ]
  },
  {
   "cell_type": "raw",
   "id": "d057f916-5968-41b5-97c7-dfdf57209337",
   "metadata": {},
   "source": [
    "for append method we have to use variable_name.append(elmnt)"
   ]
  },
  {
   "cell_type": "code",
   "execution_count": 33,
   "id": "5c9164c3-edac-4619-acb8-cd8b59318d7b",
   "metadata": {},
   "outputs": [
    {
     "data": {
      "text/plain": [
       "8"
      ]
     },
     "execution_count": 33,
     "metadata": {},
     "output_type": "execute_result"
    }
   ],
   "source": [
    "mylist = [8, 9.9, 'hi']\n",
    "mylist.pop(0)"
   ]
  },
  {
   "cell_type": "code",
   "execution_count": 35,
   "id": "fc775896-353d-405e-9ce3-6615f9f34ae7",
   "metadata": {},
   "outputs": [
    {
     "name": "stdout",
     "output_type": "stream",
     "text": [
      "[9.9, 'hi']\n"
     ]
    }
   ],
   "source": [
    "print(mylist)"
   ]
  },
  {
   "cell_type": "raw",
   "id": "76708061-0cca-464a-aebc-1c69f35da4d7",
   "metadata": {},
   "source": [
    "in pop method the elemts are removed based on index number\n",
    "\n"
   ]
  },
  {
   "cell_type": "raw",
   "id": "dd067819-9df5-4312-9ed9-9bc082c4dce5",
   "metadata": {},
   "source": [
    "SORTING IN LISTS\n"
   ]
  },
  {
   "cell_type": "code",
   "execution_count": 50,
   "id": "2f9dd2ec-04fc-478c-ac9a-34ace4ffeffa",
   "metadata": {},
   "outputs": [
    {
     "name": "stdout",
     "output_type": "stream",
     "text": [
      "['a', 'b', 'd']\n"
     ]
    }
   ],
   "source": [
    "new_list = ['a', 'd', 'b']\n",
    "new_list.sort()\n",
    "print(new_list)"
   ]
  },
  {
   "cell_type": "code",
   "execution_count": 52,
   "id": "e2b1a7cc-014c-4362-ae2d-e612dda55e6f",
   "metadata": {},
   "outputs": [
    {
     "name": "stdout",
     "output_type": "stream",
     "text": [
      "[1, 3, 9]\n"
     ]
    }
   ],
   "source": [
    "num = [9, 1, 3]\n",
    "num.sort()\n",
    "print(num)"
   ]
  },
  {
   "cell_type": "code",
   "execution_count": 56,
   "id": "4a41a92e-d555-4a03-8318-5c05b402ca92",
   "metadata": {},
   "outputs": [
    {
     "name": "stdout",
     "output_type": "stream",
     "text": [
      "[9, 3, 1]\n"
     ]
    }
   ],
   "source": [
    "num.sort(reverse = True)\n",
    "print(num)"
   ]
  },
  {
   "cell_type": "raw",
   "id": "c283b0d5-977c-47eb-bece-fd8ce2223568",
   "metadata": {},
   "source": [
    "LIST CONSTRUCTOR\n"
   ]
  },
  {
   "cell_type": "code",
   "execution_count": 60,
   "id": "90efeedc-0eef-4078-ace3-110ee309ce64",
   "metadata": {},
   "outputs": [
    {
     "name": "stdout",
     "output_type": "stream",
     "text": [
      "['ammu', 9, 'd']\n"
     ]
    }
   ],
   "source": [
    "new_one = list((\"ammu\", 9, 'd'))\n",
    "print(new_one)"
   ]
  },
  {
   "cell_type": "raw",
   "id": "d68d96d6-8cbb-445c-8d51-ab6b05622046",
   "metadata": {},
   "source": [
    "Here we have to use double brackets in list constructor "
   ]
  },
  {
   "cell_type": "code",
   "execution_count": null,
   "id": "29a11028-804f-4d37-9083-240e10f26a45",
   "metadata": {},
   "outputs": [],
   "source": []
  }
 ],
 "metadata": {
  "kernelspec": {
   "display_name": "Python 3 (ipykernel)",
   "language": "python",
   "name": "python3"
  },
  "language_info": {
   "codemirror_mode": {
    "name": "ipython",
    "version": 3
   },
   "file_extension": ".py",
   "mimetype": "text/x-python",
   "name": "python",
   "nbconvert_exporter": "python",
   "pygments_lexer": "ipython3",
   "version": "3.12.4"
  }
 },
 "nbformat": 4,
 "nbformat_minor": 5
}
