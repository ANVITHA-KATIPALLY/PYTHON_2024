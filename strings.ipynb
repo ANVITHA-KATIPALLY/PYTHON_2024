{
 "cells": [
  {
   "cell_type": "code",
   "execution_count": 1,
   "id": "3b7b9e84-fea7-4d19-b38e-4457cd549320",
   "metadata": {},
   "outputs": [
    {
     "name": "stdout",
     "output_type": "stream",
     "text": [
      "Hello world\n",
      "IM AMMULU\n"
     ]
    }
   ],
   "source": [
    "print(\"Hello world\")\n",
    "print('IM AMMULU')\n",
    "    "
   ]
  },
  {
   "cell_type": "code",
   "execution_count": 3,
   "id": "84ca9ea9-65a1-4cbc-91b0-42bfecee3d5c",
   "metadata": {},
   "outputs": [
    {
     "data": {
      "text/plain": [
       "'ammu'"
      ]
     },
     "execution_count": 3,
     "metadata": {},
     "output_type": "execute_result"
    }
   ],
   "source": [
    "\"ammu\""
   ]
  },
  {
   "cell_type": "code",
   "execution_count": 5,
   "id": "8b114af0-f72f-4308-a163-364913112b8d",
   "metadata": {},
   "outputs": [
    {
     "data": {
      "text/plain": [
       "'Hi'"
      ]
     },
     "execution_count": 5,
     "metadata": {},
     "output_type": "execute_result"
    }
   ],
   "source": [
    "'Hi'"
   ]
  },
  {
   "cell_type": "code",
   "execution_count": 7,
   "id": "4a66a385-6e88-4209-bc9d-86174b1b9d0e",
   "metadata": {},
   "outputs": [
    {
     "ename": "SyntaxError",
     "evalue": "unterminated string literal (detected at line 1) (3692186872.py, line 1)",
     "output_type": "error",
     "traceback": [
      "\u001b[0;36m  Cell \u001b[0;32mIn[7], line 1\u001b[0;36m\u001b[0m\n\u001b[0;31m    'I'M AMMU'\u001b[0m\n\u001b[0m             ^\u001b[0m\n\u001b[0;31mSyntaxError\u001b[0m\u001b[0;31m:\u001b[0m unterminated string literal (detected at line 1)\n"
     ]
    }
   ],
   "source": [
    "'I'M AMMU'"
   ]
  },
  {
   "cell_type": "code",
   "execution_count": 27,
   "id": "73454b5a-c83c-4355-a4f8-d058c8e2793e",
   "metadata": {},
   "outputs": [
    {
     "data": {
      "text/plain": [
       "'kati'"
      ]
     },
     "execution_count": 27,
     "metadata": {},
     "output_type": "execute_result"
    }
   ],
   "source": [
    "name = \"katipally\"\n",
    "name[0:4:1]\n"
   ]
  },
  {
   "cell_type": "code",
   "execution_count": 31,
   "id": "a71fe692-63f7-40f4-b8e3-db7a2698f882",
   "metadata": {},
   "outputs": [
    {
     "data": {
      "text/plain": [
       "'a'"
      ]
     },
     "execution_count": 31,
     "metadata": {},
     "output_type": "execute_result"
    }
   ],
   "source": [
    "name[1:3:2]"
   ]
  },
  {
   "cell_type": "code",
   "execution_count": 33,
   "id": "76cc755d-3ee7-45d8-a4d4-d5b6c0433198",
   "metadata": {},
   "outputs": [
    {
     "data": {
      "text/plain": [
       "'katipally'"
      ]
     },
     "execution_count": 33,
     "metadata": {},
     "output_type": "execute_result"
    }
   ],
   "source": [
    "name[:]"
   ]
  },
  {
   "cell_type": "code",
   "execution_count": 35,
   "id": "e0b7144e-4703-43d4-a851-7264b4797d21",
   "metadata": {},
   "outputs": [
    {
     "data": {
      "text/plain": [
       "'kati'"
      ]
     },
     "execution_count": 35,
     "metadata": {},
     "output_type": "execute_result"
    }
   ],
   "source": [
    "name = \"katipally\"\n",
    "name[0:4:1]\n"
   ]
  },
  {
   "cell_type": "code",
   "execution_count": 17,
   "id": "bc86c6ad-0714-4d1b-812a-dae119ebdc9b",
   "metadata": {},
   "outputs": [
    {
     "data": {
      "text/plain": [
       "'kat'"
      ]
     },
     "execution_count": 17,
     "metadata": {},
     "output_type": "execute_result"
    }
   ],
   "source": [
    "name[:3]"
   ]
  },
  {
   "cell_type": "code",
   "execution_count": 19,
   "id": "b3079023-4b45-407f-a19b-9613693d442e",
   "metadata": {},
   "outputs": [
    {
     "data": {
      "text/plain": [
       "'katipal'"
      ]
     },
     "execution_count": 19,
     "metadata": {},
     "output_type": "execute_result"
    }
   ],
   "source": [
    "name[:-2]"
   ]
  },
  {
   "cell_type": "code",
   "execution_count": 21,
   "id": "02ae6d12-757f-4b49-ae10-f487b2609d6a",
   "metadata": {},
   "outputs": [
    {
     "data": {
      "text/plain": [
       "'ly'"
      ]
     },
     "execution_count": 21,
     "metadata": {},
     "output_type": "execute_result"
    }
   ],
   "source": [
    "name[-2:]"
   ]
  },
  {
   "cell_type": "code",
   "execution_count": 23,
   "id": "291ef0b8-6835-4d09-8402-4d29de852732",
   "metadata": {},
   "outputs": [
    {
     "name": "stdout",
     "output_type": "stream",
     "text": [
      "ammuanvitha\n"
     ]
    }
   ],
   "source": [
    "name = \"ammu\"\n",
    "name_a = \"anvitha\"\n",
    "total = name + name_a\n",
    "print(total)"
   ]
  },
  {
   "cell_type": "code",
   "execution_count": 1,
   "id": "ad550c57-fa64-4631-9736-772be737628e",
   "metadata": {},
   "outputs": [
    {
     "data": {
      "text/plain": [
       "'nimu'"
      ]
     },
     "execution_count": 1,
     "metadata": {},
     "output_type": "execute_result"
    }
   ],
   "source": [
    "name = 'ammu'\n",
    "last = name[2:]\n",
    "total = 'ni' + last\n",
    "total"
   ]
  },
  {
   "cell_type": "code",
   "execution_count": 3,
   "id": "69664338-d11a-4b74-9d16-fc0411adbf43",
   "metadata": {},
   "outputs": [
    {
     "data": {
      "text/plain": [
       "'ammu'"
      ]
     },
     "execution_count": 3,
     "metadata": {},
     "output_type": "execute_result"
    }
   ],
   "source": [
    "name.lower()\n"
   ]
  },
  {
   "cell_type": "code",
   "execution_count": 5,
   "id": "632a8531-5d7a-4a39-9a7b-044cc9526248",
   "metadata": {},
   "outputs": [
    {
     "data": {
      "text/plain": [
       "'AMMU'"
      ]
     },
     "execution_count": 5,
     "metadata": {},
     "output_type": "execute_result"
    }
   ],
   "source": [
    "name.upper()"
   ]
  },
  {
   "cell_type": "code",
   "execution_count": 7,
   "id": "e2b518ac-5052-46f6-86f8-728fc6a454d9",
   "metadata": {},
   "outputs": [
    {
     "data": {
      "text/plain": [
       "['Hi', 'Im', 'Katipally', 'Anvitha']"
      ]
     },
     "execution_count": 7,
     "metadata": {},
     "output_type": "execute_result"
    }
   ],
   "source": [
    "y = 'Hi Im Katipally Anvitha'\n",
    "y.split()"
   ]
  },
  {
   "cell_type": "code",
   "execution_count": 9,
   "id": "a702d0e1-31bf-46b5-9a62-4d940f614039",
   "metadata": {},
   "outputs": [
    {
     "data": {
      "text/plain": [
       "['H', ' Im Kat', 'pally Anv', 'tha']"
      ]
     },
     "execution_count": 9,
     "metadata": {},
     "output_type": "execute_result"
    }
   ],
   "source": [
    "y.split('i')"
   ]
  },
  {
   "cell_type": "code",
   "execution_count": 11,
   "id": "44558788-445e-49e3-ba0b-5db16b74c933",
   "metadata": {},
   "outputs": [],
   "source": [
    "x = 2 + 4\n"
   ]
  },
  {
   "cell_type": "code",
   "execution_count": 13,
   "id": "6bca2b70-ffa4-418c-b119-73196427fd08",
   "metadata": {},
   "outputs": [
    {
     "name": "stdout",
     "output_type": "stream",
     "text": [
      "6\n"
     ]
    }
   ],
   "source": [
    "print(x)"
   ]
  },
  {
   "cell_type": "code",
   "execution_count": 15,
   "id": "5f20778e-0ef9-4911-91bc-f2460ab4db40",
   "metadata": {},
   "outputs": [
    {
     "name": "stdout",
     "output_type": "stream",
     "text": [
      "25\n"
     ]
    }
   ],
   "source": [
    "x = '2' + '5'\n",
    "print(x)"
   ]
  },
  {
   "cell_type": "code",
   "execution_count": 17,
   "id": "6002393c-6089-41d9-bccd-60ca1b79704e",
   "metadata": {},
   "outputs": [
    {
     "ename": "TypeError",
     "evalue": "can only concatenate str (not \"int\") to str",
     "output_type": "error",
     "traceback": [
      "\u001b[0;31m---------------------------------------------------------------------------\u001b[0m",
      "\u001b[0;31mTypeError\u001b[0m                                 Traceback (most recent call last)",
      "Cell \u001b[0;32mIn[17], line 1\u001b[0m\n\u001b[0;32m----> 1\u001b[0m z \u001b[38;5;241m=\u001b[39m \u001b[38;5;124m'\u001b[39m\u001b[38;5;124mxyz\u001b[39m\u001b[38;5;124m'\u001b[39m \u001b[38;5;241m+\u001b[39m \u001b[38;5;241m5\u001b[39m\n\u001b[1;32m      2\u001b[0m \u001b[38;5;28mprint\u001b[39m(z)\n",
      "\u001b[0;31mTypeError\u001b[0m: can only concatenate str (not \"int\") to str"
     ]
    }
   ],
   "source": [
    "z = 'xyz' + 5\n",
    "print(z)"
   ]
  },
  {
   "cell_type": "code",
   "execution_count": 1,
   "id": "46e04439-ea8d-464f-83ec-2f91e8c7a1aa",
   "metadata": {},
   "outputs": [
    {
     "name": "stdout",
     "output_type": "stream",
     "text": [
      " This is Katipally Anvitha\n"
     ]
    }
   ],
   "source": [
    "print(' This is {}'.format('Katipally Anvitha'))\n"
   ]
  },
  {
   "cell_type": "code",
   "execution_count": 3,
   "id": "9893aa47-1619-4a78-89e2-fd5edbe3d6ae",
   "metadata": {},
   "outputs": [
    {
     "name": "stdout",
     "output_type": "stream",
     "text": [
      " This is Ammu\n"
     ]
    }
   ],
   "source": [
    "print(' This is {x}'. format(x = 'Ammu'))\n"
   ]
  },
  {
   "cell_type": "code",
   "execution_count": 5,
   "id": "52b3a4e9-9a06-4f78-9505-45e1ce2ae60f",
   "metadata": {},
   "outputs": [
    {
     "name": "stdout",
     "output_type": "stream",
     "text": [
      " This is Katipally Ammu\n"
     ]
    }
   ],
   "source": [
    "print(' This is {y} {x}'.format(x = 'Ammu', y = 'Katipally'))"
   ]
  },
  {
   "cell_type": "code",
   "execution_count": 7,
   "id": "e2e0285e-f3d0-4cea-a5b9-e5f5c1b507eb",
   "metadata": {},
   "outputs": [
    {
     "ename": "IndexError",
     "evalue": "Replacement index 0 out of range for positional args tuple",
     "output_type": "error",
     "traceback": [
      "\u001b[0;31m---------------------------------------------------------------------------\u001b[0m",
      "\u001b[0;31mIndexError\u001b[0m                                Traceback (most recent call last)",
      "Cell \u001b[0;32mIn[7], line 1\u001b[0m\n\u001b[0;32m----> 1\u001b[0m \u001b[38;5;28mprint\u001b[39m(\u001b[38;5;124m'\u001b[39m\u001b[38;5;124m This is \u001b[39m\u001b[38;5;132;01m{0}\u001b[39;00m\u001b[38;5;124m \u001b[39m\u001b[38;5;132;01m{1}\u001b[39;00m\u001b[38;5;124m'\u001b[39m\u001b[38;5;241m.\u001b[39mformat(x \u001b[38;5;241m=\u001b[39m \u001b[38;5;124m'\u001b[39m\u001b[38;5;124mAmmu\u001b[39m\u001b[38;5;124m'\u001b[39m, y \u001b[38;5;241m=\u001b[39m \u001b[38;5;124m'\u001b[39m\u001b[38;5;124mKatipally\u001b[39m\u001b[38;5;124m'\u001b[39m))\n",
      "\u001b[0;31mIndexError\u001b[0m: Replacement index 0 out of range for positional args tuple"
     ]
    }
   ],
   "source": [
    "print(' This is {0} {1}'.format(x = 'Ammu', y = 'Katipally'))"
   ]
  },
  {
   "cell_type": "code",
   "execution_count": 9,
   "id": "30e06d79-a42b-43fd-a694-7ad011bb3185",
   "metadata": {},
   "outputs": [
    {
     "name": "stdout",
     "output_type": "stream",
     "text": [
      " This is Katipally Ammu\n"
     ]
    }
   ],
   "source": [
    "print(' This is {1} {0}'.format('Ammu', 'Katipally'))"
   ]
  },
  {
   "cell_type": "code",
   "execution_count": null,
   "id": "0aca6686-db0a-446b-b2c9-2c4be90ffa7d",
   "metadata": {},
   "outputs": [],
   "source": [
    "Res = 100/777"
   ]
  },
  {
   "cell_type": "code",
   "execution_count": 11,
   "id": "80e54a25-787a-41ed-88a9-c1b5acc69940",
   "metadata": {},
   "outputs": [
    {
     "ename": "NameError",
     "evalue": "name 'Res' is not defined",
     "output_type": "error",
     "traceback": [
      "\u001b[0;31m---------------------------------------------------------------------------\u001b[0m",
      "\u001b[0;31mNameError\u001b[0m                                 Traceback (most recent call last)",
      "Cell \u001b[0;32mIn[11], line 1\u001b[0m\n\u001b[0;32m----> 1\u001b[0m Res\n",
      "\u001b[0;31mNameError\u001b[0m: name 'Res' is not defined"
     ]
    }
   ],
   "source": [
    "Res"
   ]
  },
  {
   "cell_type": "code",
   "execution_count": 13,
   "id": "0fe49f60-969e-4f39-9790-000df423f7e7",
   "metadata": {},
   "outputs": [],
   "source": [
    "Res = 100/777"
   ]
  },
  {
   "cell_type": "code",
   "execution_count": 15,
   "id": "012fd20a-d860-4a6a-b247-65f0f6d84243",
   "metadata": {},
   "outputs": [
    {
     "data": {
      "text/plain": [
       "0.1287001287001287"
      ]
     },
     "execution_count": 15,
     "metadata": {},
     "output_type": "execute_result"
    }
   ],
   "source": [
    "Res"
   ]
  },
  {
   "cell_type": "code",
   "execution_count": 19,
   "id": "d234cec7-3981-4bd8-a0f5-570d69931321",
   "metadata": {},
   "outputs": [
    {
     "name": "stdout",
     "output_type": "stream",
     "text": [
      "The value is 0.1287001287001287\n"
     ]
    }
   ],
   "source": [
    "print('The value is {}'. format(Res))"
   ]
  },
  {
   "cell_type": "code",
   "execution_count": 21,
   "id": "8d29541e-04b1-400e-b9ae-4e21cbc45d8a",
   "metadata": {},
   "outputs": [
    {
     "ename": "KeyError",
     "evalue": "'Res'",
     "output_type": "error",
     "traceback": [
      "\u001b[0;31m---------------------------------------------------------------------------\u001b[0m",
      "\u001b[0;31mKeyError\u001b[0m                                  Traceback (most recent call last)",
      "Cell \u001b[0;32mIn[21], line 1\u001b[0m\n\u001b[0;32m----> 1\u001b[0m \u001b[38;5;28mprint\u001b[39m(\u001b[38;5;124m'\u001b[39m\u001b[38;5;124mThe value is \u001b[39m\u001b[38;5;132;01m{Res:1.2f}\u001b[39;00m\u001b[38;5;124m'\u001b[39m\u001b[38;5;241m.\u001b[39m \u001b[38;5;28mformat\u001b[39m(Res))\n",
      "\u001b[0;31mKeyError\u001b[0m: 'Res'"
     ]
    }
   ],
   "source": [
    "print('The value is {Res:1.2f}'. format(Res))"
   ]
  },
  {
   "cell_type": "code",
   "execution_count": 23,
   "id": "4aadabcb-7916-4cbc-a0a0-c3ec7c7e136c",
   "metadata": {},
   "outputs": [
    {
     "ename": "KeyError",
     "evalue": "'Res'",
     "output_type": "error",
     "traceback": [
      "\u001b[0;31m---------------------------------------------------------------------------\u001b[0m",
      "\u001b[0;31mKeyError\u001b[0m                                  Traceback (most recent call last)",
      "Cell \u001b[0;32mIn[23], line 1\u001b[0m\n\u001b[0;32m----> 1\u001b[0m \u001b[38;5;28mprint\u001b[39m(\u001b[38;5;124m'\u001b[39m\u001b[38;5;124mThe value is \u001b[39m\u001b[38;5;132;01m{Res:1.2f}\u001b[39;00m\u001b[38;5;124m'\u001b[39m\u001b[38;5;241m.\u001b[39mformat(Res))\n",
      "\u001b[0;31mKeyError\u001b[0m: 'Res'"
     ]
    }
   ],
   "source": [
    "print('The value is {Res:1.2f}'.format(Res))"
   ]
  },
  {
   "cell_type": "code",
   "execution_count": 27,
   "id": "3bfe7f5d-bb84-423a-b456-1696d928b90c",
   "metadata": {},
   "outputs": [
    {
     "name": "stdout",
     "output_type": "stream",
     "text": [
      " The value is 0.13\n"
     ]
    }
   ],
   "source": [
    "print(\" The value is {x:1.2f}\". format(x = Res))"
   ]
  },
  {
   "cell_type": "code",
   "execution_count": null,
   "id": "20d48a32-c134-4dba-a6d4-d0fc1814dd42",
   "metadata": {},
   "outputs": [],
   "source": []
  }
 ],
 "metadata": {
  "kernelspec": {
   "display_name": "Python 3 (ipykernel)",
   "language": "python",
   "name": "python3"
  },
  "language_info": {
   "codemirror_mode": {
    "name": "ipython",
    "version": 3
   },
   "file_extension": ".py",
   "mimetype": "text/x-python",
   "name": "python",
   "nbconvert_exporter": "python",
   "pygments_lexer": "ipython3",
   "version": "3.12.4"
  }
 },
 "nbformat": 4,
 "nbformat_minor": 5
}
